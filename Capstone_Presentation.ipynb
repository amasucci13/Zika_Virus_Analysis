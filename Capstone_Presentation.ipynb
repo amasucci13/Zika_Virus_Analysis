{
 "cells": [
  {
   "cell_type": "markdown",
   "metadata": {},
   "source": [
    "# DSI Capstone Presentation"
   ]
  },
  {
   "cell_type": "markdown",
   "metadata": {},
   "source": [
    "Quick Links:\n",
    "- [Problem Statement and Background](#Problem-statement)\n",
    "- [Imports and Data](#Imports-and-Data)\n",
    "- [Data Visualizations and EDA](#Data-Visualizations-and-EDA)\n",
    "- [Feature Selection and Pre-processing](#Feature-selection-and-preprocessing)\n",
    "- [Baseline Model: Linear Regression with LASSO](#Linear_regression)\n",
    "- [LASSO Regression-Polynomial Feature Transformation](#LASSO_regression)\n",
    "- [Elastic Net Regression](#Enet)\n",
    "- [OLS Regression](#OLS_Regression)\n",
    "- [SVM](#SVM)\n",
    "- [Random Forest Regressor](#Random_Forest_Regressor)\n",
    "- [Conclusions and Future Research](#Conclusions)\n",
    "- [Sources](#sources)"
   ]
  },
  {
   "cell_type": "markdown",
   "metadata": {},
   "source": [
    "<a id='Problem-statement'></a>\n",
    "## Problem statement: Can the spread of Zika virus be accurately predicted with features such as weather data, human population density, and mosquito data?\n",
    "\n",
    "    -> What is your goal?\n",
    "\n",
    "To accurately predict the number of Zika cases (by state) for the 2015-2016 outbreak.\n",
    "\n",
    "    -> What are your metrics?\n",
    "\n",
    "Number of cases per state during a given time period \n",
    "\n",
    "    -> What were your findings?\n",
    "\n",
    "Given the data, I was able to narrow in on microcephaly cases (caused by the Zika virus) in Brazil during the outbreak.\n",
    "\n",
    "    -> What risks/limitations/assumptions affect these findings?\n",
    "    \n",
    "The assumption that the microcephaly cases in the data set are linked to zika. Also, that all cases were reported and/or entered in the data set.\n",
    "\n",
    "A major limitation is the collection of mosquito data:  *\"Knowledge of the contemporary distribution of their shared vectors, Aedes aegypti and Aedes albopictus remains incomplete and is complicated by an ongoing range expansion fuelled by increased global trade and travel.\"* (https://elifesciences.org/articles/08347)"
   ]
  },
  {
   "cell_type": "markdown",
   "metadata": {},
   "source": [
    "Since mosquito data was missing, I incorporated socioeconomic and population data into my model:\n",
    "\n",
    "- The Human Development Index per State:  \n",
    "A composite statistic of life expectancy, education, and per capita income indicators, which are used to rank countries into four tiers of development.\n",
    "\n",
    " - Gross Domestic Product per state\n",
    "\n",
    " - State population density\n",
    "\n",
    " - GDP per capita\n",
    "    \n",
    " - Weather data (shifted back 30 days due to the mosquito life cycle)"
   ]
  },
  {
   "cell_type": "markdown",
   "metadata": {},
   "source": [
    "## The zika virus has cost Latin America an estimated 18 Billion USD in social and economic losses-- and the costs are still mounting today.\n",
    "(http://www.undp.org/content/undp/en/home/presscenter/pressreleases/2017/04/06/social-and-economic-costs-of-zika-can-reach-up-to-us-18-billion-in-latin-america-and-the-caribbean.html)"
   ]
  },
  {
   "cell_type": "markdown",
   "metadata": {},
   "source": [
    "### However, if the factors that influence an outbreak, especially vector borne viral outbreaks, are better understood, more lives can be saved and costs can be reduced"
   ]
  },
  {
   "cell_type": "markdown",
   "metadata": {},
   "source": [
    "Some background on the Zika virus:\n",
    "\n",
    "- First isolated from Zika forest in Uganda in 1947. Originated in Asia. Arrived in Latin America in 2007, resulting in the outbreak in 2015-2016. \n",
    "\n",
    "- Analysis reveals that contemporary epidemic strains have accumulated multiple substitutions (mutations) from their Asian ancestor. Scientists have linked these mutations to the microcephaly cases during the outbreak.\n",
    "\n",
    "- Microcephaly is a birth defect where a baby's head is smaller than other infants of the same age and sex. Developmental delays of the brain can also be present; and microcephaly can be fatal in some cases (as seen in my data set). "
   ]
  },
  {
   "cell_type": "markdown",
   "metadata": {},
   "source": [
    "## Imports and Original Dataset (Cleaned)\n",
    "<a id='Imports-and-Data'></a>"
   ]
  },
  {
   "cell_type": "code",
   "execution_count": 1,
   "metadata": {
    "collapsed": true
   },
   "outputs": [],
   "source": [
    "import pandas as pd\n",
    "import numpy as np\n",
    "import matplotlib.pyplot as plt\n",
    "import seaborn as sns\n",
    "from sklearn.model_selection import cross_val_score, cross_val_predict\n",
    "from sklearn.ensemble import RandomForestRegressor\n",
    "from sklearn.model_selection import train_test_split, GridSearchCV\n",
    "from sklearn.pipeline import Pipeline, FeatureUnion\n",
    "from sklearn.preprocessing import StandardScaler, PolynomialFeatures, FunctionTransformer, Imputer\n",
    "from sklearn.linear_model import LinearRegression, Lasso, Ridge, ElasticNet, LassoCV, RidgeCV, ElasticNetCV\n",
    "from sklearn.model_selection import cross_val_score\n",
    "\n",
    "% matplotlib inline"
   ]
  },
  {
   "cell_type": "code",
   "execution_count": 2,
   "metadata": {
    "collapsed": true
   },
   "outputs": [],
   "source": [
    "import matplotlib.cm\n",
    " \n",
    "from mpl_toolkits.basemap import Basemap\n",
    "from matplotlib.patches import Polygon\n",
    "from matplotlib.collections import PatchCollection\n",
    "from matplotlib.colors import Normalize"
   ]
  },
  {
   "cell_type": "markdown",
   "metadata": {},
   "source": [
    "## Visualizing the Zika Outbreak Beyond Brazil\n",
    "<a id='Data-Visualizations-and-EDA'></a>"
   ]
  },
  {
   "cell_type": "code",
   "execution_count": 3,
   "metadata": {},
   "outputs": [
    {
     "name": "stderr",
     "output_type": "stream",
     "text": [
      "C:\\Users\\MissFlave\\Anaconda\\lib\\site-packages\\IPython\\core\\interactiveshell.py:2698: DtypeWarning: Columns (1,11,12) have mixed types. Specify dtype option on import or set low_memory=False.\n",
      "  interactivity=interactivity, compiler=compiler, result=result)\n"
     ]
    }
   ],
   "source": [
    "zika = pd.read_csv('all_countries_data.csv', encoding='latin-1', index_col=[0] )"
   ]
  },
  {
   "cell_type": "code",
   "execution_count": 4,
   "metadata": {},
   "outputs": [
    {
     "data": {
      "text/html": [
       "<div>\n",
       "<style>\n",
       "    .dataframe thead tr:only-child th {\n",
       "        text-align: right;\n",
       "    }\n",
       "\n",
       "    .dataframe thead th {\n",
       "        text-align: left;\n",
       "    }\n",
       "\n",
       "    .dataframe tbody tr th {\n",
       "        vertical-align: top;\n",
       "    }\n",
       "</style>\n",
       "<table border=\"1\" class=\"dataframe\">\n",
       "  <thead>\n",
       "    <tr style=\"text-align: right;\">\n",
       "      <th></th>\n",
       "      <th>GDP_USD_bill</th>\n",
       "      <th>HDI</th>\n",
       "      <th>accent_city</th>\n",
       "      <th>city_region</th>\n",
       "      <th>code</th>\n",
       "      <th>country</th>\n",
       "      <th>data_field</th>\n",
       "      <th>lat</th>\n",
       "      <th>lng</th>\n",
       "      <th>location_type</th>\n",
       "      <th>pop</th>\n",
       "      <th>pop_density</th>\n",
       "      <th>region</th>\n",
       "      <th>report_date</th>\n",
       "      <th>value</th>\n",
       "    </tr>\n",
       "  </thead>\n",
       "  <tbody>\n",
       "    <tr>\n",
       "      <th>0</th>\n",
       "      <td>161.0</td>\n",
       "      <td>0.837</td>\n",
       "      <td>NaN</td>\n",
       "      <td>Buenos_Aires</td>\n",
       "      <td>AR</td>\n",
       "      <td>Argentina</td>\n",
       "      <td>cumulative_confirmed_local_cases</td>\n",
       "      <td>NaN</td>\n",
       "      <td>NaN</td>\n",
       "      <td>province</td>\n",
       "      <td>15,594,428</td>\n",
       "      <td>50.7</td>\n",
       "      <td>NaN</td>\n",
       "      <td>2016-03-19</td>\n",
       "      <td>0.0</td>\n",
       "    </tr>\n",
       "    <tr>\n",
       "      <th>1</th>\n",
       "      <td>161.0</td>\n",
       "      <td>0.837</td>\n",
       "      <td>NaN</td>\n",
       "      <td>Buenos_Aires</td>\n",
       "      <td>AR</td>\n",
       "      <td>Argentina</td>\n",
       "      <td>cumulative_confirmed_imported_cases</td>\n",
       "      <td>NaN</td>\n",
       "      <td>NaN</td>\n",
       "      <td>province</td>\n",
       "      <td>15,594,428</td>\n",
       "      <td>50.7</td>\n",
       "      <td>NaN</td>\n",
       "      <td>2016-03-19</td>\n",
       "      <td>2.0</td>\n",
       "    </tr>\n",
       "    <tr>\n",
       "      <th>4</th>\n",
       "      <td>2.331</td>\n",
       "      <td>0.844</td>\n",
       "      <td>Catamarca</td>\n",
       "      <td>Catamarca</td>\n",
       "      <td>AR</td>\n",
       "      <td>Argentina</td>\n",
       "      <td>cumulative_confirmed_local_cases</td>\n",
       "      <td>-28.469574</td>\n",
       "      <td>-65.785239</td>\n",
       "      <td>province</td>\n",
       "      <td>367,820</td>\n",
       "      <td>3.6</td>\n",
       "      <td>2.0</td>\n",
       "      <td>2016-03-19</td>\n",
       "      <td>0.0</td>\n",
       "    </tr>\n",
       "    <tr>\n",
       "      <th>5</th>\n",
       "      <td>2.331</td>\n",
       "      <td>0.844</td>\n",
       "      <td>Catamarca</td>\n",
       "      <td>Catamarca</td>\n",
       "      <td>AR</td>\n",
       "      <td>Argentina</td>\n",
       "      <td>cumulative_confirmed_imported_cases</td>\n",
       "      <td>-28.469574</td>\n",
       "      <td>-65.785239</td>\n",
       "      <td>province</td>\n",
       "      <td>367,820</td>\n",
       "      <td>3.6</td>\n",
       "      <td>2.0</td>\n",
       "      <td>2016-03-19</td>\n",
       "      <td>0.0</td>\n",
       "    </tr>\n",
       "    <tr>\n",
       "      <th>6</th>\n",
       "      <td>2.12</td>\n",
       "      <td>0.816</td>\n",
       "      <td>NaN</td>\n",
       "      <td>Chaco</td>\n",
       "      <td>AR</td>\n",
       "      <td>Argentina</td>\n",
       "      <td>cumulative_confirmed_local_cases</td>\n",
       "      <td>NaN</td>\n",
       "      <td>NaN</td>\n",
       "      <td>province</td>\n",
       "      <td>1,053,466</td>\n",
       "      <td>10.6</td>\n",
       "      <td>NaN</td>\n",
       "      <td>2016-03-19</td>\n",
       "      <td>0.0</td>\n",
       "    </tr>\n",
       "  </tbody>\n",
       "</table>\n",
       "</div>"
      ],
      "text/plain": [
       "  GDP_USD_bill    HDI accent_city   city_region code    country  \\\n",
       "0        161.0  0.837         NaN  Buenos_Aires   AR  Argentina   \n",
       "1        161.0  0.837         NaN  Buenos_Aires   AR  Argentina   \n",
       "4        2.331  0.844   Catamarca     Catamarca   AR  Argentina   \n",
       "5        2.331  0.844   Catamarca     Catamarca   AR  Argentina   \n",
       "6         2.12  0.816         NaN         Chaco   AR  Argentina   \n",
       "\n",
       "                            data_field        lat        lng location_type  \\\n",
       "0     cumulative_confirmed_local_cases        NaN        NaN      province   \n",
       "1  cumulative_confirmed_imported_cases        NaN        NaN      province   \n",
       "4     cumulative_confirmed_local_cases -28.469574 -65.785239      province   \n",
       "5  cumulative_confirmed_imported_cases -28.469574 -65.785239      province   \n",
       "6     cumulative_confirmed_local_cases        NaN        NaN      province   \n",
       "\n",
       "          pop pop_density  region report_date  value  \n",
       "0  15,594,428        50.7     NaN  2016-03-19    0.0  \n",
       "1  15,594,428        50.7     NaN  2016-03-19    2.0  \n",
       "4     367,820         3.6     2.0  2016-03-19    0.0  \n",
       "5     367,820         3.6     2.0  2016-03-19    0.0  \n",
       "6   1,053,466        10.6     NaN  2016-03-19    0.0  "
      ]
     },
     "execution_count": 4,
     "metadata": {},
     "output_type": "execute_result"
    }
   ],
   "source": [
    "zika.head()"
   ]
  },
  {
   "cell_type": "code",
   "execution_count": 5,
   "metadata": {
    "collapsed": true
   },
   "outputs": [],
   "source": [
    "zika.dropna(subset=['lat'], how='all', inplace = True)"
   ]
  },
  {
   "cell_type": "code",
   "execution_count": 6,
   "metadata": {},
   "outputs": [
    {
     "data": {
      "text/plain": [
       "GDP_USD_bill     43963\n",
       "HDI              43963\n",
       "accent_city       1243\n",
       "city_region          0\n",
       "code                 0\n",
       "country              0\n",
       "data_field           0\n",
       "lat                  0\n",
       "lng                  0\n",
       "location_type        0\n",
       "pop                  0\n",
       "pop_density      43963\n",
       "region            1243\n",
       "report_date          0\n",
       "value                0\n",
       "dtype: int64"
      ]
     },
     "execution_count": 6,
     "metadata": {},
     "output_type": "execute_result"
    }
   ],
   "source": [
    "zika.isnull().sum()"
   ]
  },
  {
   "cell_type": "code",
   "execution_count": 7,
   "metadata": {
    "collapsed": true
   },
   "outputs": [],
   "source": [
    "zika['pos'] = list(zip(zika.lng, zika.lat))"
   ]
  },
  {
   "cell_type": "code",
   "execution_count": 8,
   "metadata": {
    "collapsed": true
   },
   "outputs": [],
   "source": [
    "zika =  zika[zika.country != 'Colombia']"
   ]
  },
  {
   "cell_type": "code",
   "execution_count": 9,
   "metadata": {
    "scrolled": true
   },
   "outputs": [
    {
     "data": {
      "text/html": [
       "<div>\n",
       "<style>\n",
       "    .dataframe thead tr:only-child th {\n",
       "        text-align: right;\n",
       "    }\n",
       "\n",
       "    .dataframe thead th {\n",
       "        text-align: left;\n",
       "    }\n",
       "\n",
       "    .dataframe tbody tr th {\n",
       "        vertical-align: top;\n",
       "    }\n",
       "</style>\n",
       "<table border=\"1\" class=\"dataframe\">\n",
       "  <thead>\n",
       "    <tr style=\"text-align: right;\">\n",
       "      <th></th>\n",
       "      <th>GDP_USD_bill</th>\n",
       "      <th>HDI</th>\n",
       "      <th>accent_city</th>\n",
       "      <th>city_region</th>\n",
       "      <th>code</th>\n",
       "      <th>country</th>\n",
       "      <th>data_field</th>\n",
       "      <th>lat</th>\n",
       "      <th>lng</th>\n",
       "      <th>location_type</th>\n",
       "      <th>pop</th>\n",
       "      <th>pop_density</th>\n",
       "      <th>region</th>\n",
       "      <th>report_date</th>\n",
       "      <th>value</th>\n",
       "      <th>pos</th>\n",
       "    </tr>\n",
       "  </thead>\n",
       "  <tbody>\n",
       "    <tr>\n",
       "      <th>4</th>\n",
       "      <td>2.331</td>\n",
       "      <td>0.844</td>\n",
       "      <td>Catamarca</td>\n",
       "      <td>Catamarca</td>\n",
       "      <td>AR</td>\n",
       "      <td>Argentina</td>\n",
       "      <td>cumulative_confirmed_local_cases</td>\n",
       "      <td>-28.469574</td>\n",
       "      <td>-65.785239</td>\n",
       "      <td>province</td>\n",
       "      <td>367,820</td>\n",
       "      <td>3.6</td>\n",
       "      <td>2.0</td>\n",
       "      <td>2016-03-19</td>\n",
       "      <td>0.0</td>\n",
       "      <td>(-65.785239, -28.469574)</td>\n",
       "    </tr>\n",
       "    <tr>\n",
       "      <th>5</th>\n",
       "      <td>2.331</td>\n",
       "      <td>0.844</td>\n",
       "      <td>Catamarca</td>\n",
       "      <td>Catamarca</td>\n",
       "      <td>AR</td>\n",
       "      <td>Argentina</td>\n",
       "      <td>cumulative_confirmed_imported_cases</td>\n",
       "      <td>-28.469574</td>\n",
       "      <td>-65.785239</td>\n",
       "      <td>province</td>\n",
       "      <td>367,820</td>\n",
       "      <td>3.6</td>\n",
       "      <td>2.0</td>\n",
       "      <td>2016-03-19</td>\n",
       "      <td>0.0</td>\n",
       "      <td>(-65.785239, -28.469574)</td>\n",
       "    </tr>\n",
       "    <tr>\n",
       "      <th>10</th>\n",
       "      <td>33.239000000000004</td>\n",
       "      <td>0.846</td>\n",
       "      <td>Cordoba</td>\n",
       "      <td>Cordoba</td>\n",
       "      <td>AR</td>\n",
       "      <td>Argentina</td>\n",
       "      <td>cumulative_confirmed_local_cases</td>\n",
       "      <td>-31.413496</td>\n",
       "      <td>-64.181052</td>\n",
       "      <td>province</td>\n",
       "      <td>3,304,825</td>\n",
       "      <td>20.0</td>\n",
       "      <td>5.0</td>\n",
       "      <td>2016-03-19</td>\n",
       "      <td>1.0</td>\n",
       "      <td>(-64.181052, -31.413496)</td>\n",
       "    </tr>\n",
       "    <tr>\n",
       "      <th>11</th>\n",
       "      <td>33.239000000000004</td>\n",
       "      <td>0.846</td>\n",
       "      <td>Cordoba</td>\n",
       "      <td>Cordoba</td>\n",
       "      <td>AR</td>\n",
       "      <td>Argentina</td>\n",
       "      <td>cumulative_confirmed_imported_cases</td>\n",
       "      <td>-31.413496</td>\n",
       "      <td>-64.181052</td>\n",
       "      <td>province</td>\n",
       "      <td>3,304,825</td>\n",
       "      <td>20.0</td>\n",
       "      <td>5.0</td>\n",
       "      <td>2016-03-19</td>\n",
       "      <td>1.0</td>\n",
       "      <td>(-64.181052, -31.413496)</td>\n",
       "    </tr>\n",
       "    <tr>\n",
       "      <th>12</th>\n",
       "      <td>4.053</td>\n",
       "      <td>0.825</td>\n",
       "      <td>Corrientes</td>\n",
       "      <td>Corrientes</td>\n",
       "      <td>AR</td>\n",
       "      <td>Argentina</td>\n",
       "      <td>cumulative_confirmed_local_cases</td>\n",
       "      <td>-27.480596</td>\n",
       "      <td>-58.834099</td>\n",
       "      <td>province</td>\n",
       "      <td>993,338</td>\n",
       "      <td>11.3</td>\n",
       "      <td>6.0</td>\n",
       "      <td>2016-03-19</td>\n",
       "      <td>0.0</td>\n",
       "      <td>(-58.834099, -27.480596)</td>\n",
       "    </tr>\n",
       "  </tbody>\n",
       "</table>\n",
       "</div>"
      ],
      "text/plain": [
       "          GDP_USD_bill    HDI accent_city city_region code    country  \\\n",
       "4                2.331  0.844   Catamarca   Catamarca   AR  Argentina   \n",
       "5                2.331  0.844   Catamarca   Catamarca   AR  Argentina   \n",
       "10  33.239000000000004  0.846     Cordoba     Cordoba   AR  Argentina   \n",
       "11  33.239000000000004  0.846     Cordoba     Cordoba   AR  Argentina   \n",
       "12               4.053  0.825  Corrientes  Corrientes   AR  Argentina   \n",
       "\n",
       "                             data_field        lat        lng location_type  \\\n",
       "4      cumulative_confirmed_local_cases -28.469574 -65.785239      province   \n",
       "5   cumulative_confirmed_imported_cases -28.469574 -65.785239      province   \n",
       "10     cumulative_confirmed_local_cases -31.413496 -64.181052      province   \n",
       "11  cumulative_confirmed_imported_cases -31.413496 -64.181052      province   \n",
       "12     cumulative_confirmed_local_cases -27.480596 -58.834099      province   \n",
       "\n",
       "          pop pop_density  region report_date  value                       pos  \n",
       "4     367,820         3.6     2.0  2016-03-19    0.0  (-65.785239, -28.469574)  \n",
       "5     367,820         3.6     2.0  2016-03-19    0.0  (-65.785239, -28.469574)  \n",
       "10  3,304,825        20.0     5.0  2016-03-19    1.0  (-64.181052, -31.413496)  \n",
       "11  3,304,825        20.0     5.0  2016-03-19    1.0  (-64.181052, -31.413496)  \n",
       "12    993,338        11.3     6.0  2016-03-19    0.0  (-58.834099, -27.480596)  "
      ]
     },
     "execution_count": 9,
     "metadata": {},
     "output_type": "execute_result"
    }
   ],
   "source": [
    "zika.head()"
   ]
  },
  {
   "cell_type": "code",
   "execution_count": 10,
   "metadata": {},
   "outputs": [
    {
     "data": {
      "text/plain": [
       "(2666, 16)"
      ]
     },
     "execution_count": 10,
     "metadata": {},
     "output_type": "execute_result"
    }
   ],
   "source": [
    "zika.shape"
   ]
  },
  {
   "cell_type": "code",
   "execution_count": 11,
   "metadata": {},
   "outputs": [
    {
     "data": {
      "text/plain": [
       "array(['Argentina', 'Brazil', 'Mexico', 'Dominican_Republic', 'Guatemala',\n",
       "       'Nicaragua', 'Panama'], dtype=object)"
      ]
     },
     "execution_count": 11,
     "metadata": {},
     "output_type": "execute_result"
    }
   ],
   "source": [
    "zika.country.unique()"
   ]
  },
  {
   "cell_type": "code",
   "execution_count": 12,
   "metadata": {
    "collapsed": true
   },
   "outputs": [],
   "source": [
    "colour_set = ['#f9ebea','#d5d8dc','#c39bd3','#BA4A00','#17A589','#1E8449','#e2df5d','#2E4053','#F1c40F','#A9DFBF','#F0B27A']"
   ]
  },
  {
   "cell_type": "code",
   "execution_count": 128,
   "metadata": {
    "collapsed": true
   },
   "outputs": [],
   "source": [
    "def outbreak_map():\n",
    "    fig, ax = plt.subplots(figsize=(10,20))\n",
    "    m = Basemap(resolution='c', # c, l, i, h, f or None\n",
    "            projection='merc',\n",
    "            lat_0=75, lon_0=18,\n",
    "            llcrnrlon=-118.8, llcrnrlat= -56.9, urcrnrlon=-32.3, urcrnrlat=33.8)\n",
    "    m.drawmapboundary(fill_color='blue')\n",
    "    m.fillcontinents(color='white',lake_color='#46bcec')\n",
    "    m.drawcoastlines()\n",
    "    m.ax = ax\n",
    "    m.fillcontinents()\n",
    "    for i, r in zika.iterrows():\n",
    "        x,y = r['pos']\n",
    "        size = (r['value']/10)\n",
    "        m.plot(x, y, marker = 'o', c='red', markersize=1*size, alpha=0.5, latlon=True)\n",
    "    plt.title(\"Zika in Argentina, Brazil, Mexico, Dominican Republic, Guatemala, Nicaragua, and Panama\")\n",
    "    return fig, m"
   ]
  },
  {
   "cell_type": "code",
   "execution_count": 129,
   "metadata": {},
   "outputs": [
    {
     "name": "stderr",
     "output_type": "stream",
     "text": [
      "C:\\Users\\MissFlave\\Anaconda\\lib\\site-packages\\mpl_toolkits\\basemap\\__init__.py:1707: MatplotlibDeprecationWarning: The axesPatch function was deprecated in version 2.1. Use Axes.patch instead.\n",
      "  limb = ax.axesPatch\n",
      "C:\\Users\\MissFlave\\Anaconda\\lib\\site-packages\\mpl_toolkits\\basemap\\__init__.py:1710: MatplotlibDeprecationWarning: The axesPatch function was deprecated in version 2.1. Use Axes.patch instead.\n",
      "  if limb is not ax.axesPatch:\n",
      "C:\\Users\\MissFlave\\Anaconda\\lib\\site-packages\\mpl_toolkits\\basemap\\__init__.py:3274: MatplotlibDeprecationWarning: The ishold function was deprecated in version 2.0.\n",
      "  b = ax.ishold()\n",
      "C:\\Users\\MissFlave\\Anaconda\\lib\\site-packages\\mpl_toolkits\\basemap\\__init__.py:3283: MatplotlibDeprecationWarning: axes.hold is deprecated.\n",
      "    See the API Changes document (http://matplotlib.org/api/api_changes.html)\n",
      "    for more details.\n",
      "  ax.hold(b)\n"
     ]
    },
    {
     "data": {
      "image/png": "[encoded data removed]",
      "text/plain": [
       "<matplotlib.figure.Figure at 0x2240d0f34e0>"
      ]
     },
     "metadata": {},
     "output_type": "display_data"
    }
   ],
   "source": [
    "fig, m = outbreak_map()\n",
    "m.drawcountries()\n",
    "_ = m.drawstates()\n",
    "\n",
    "# I had to eliminate Colomiba from my data set because the cases were recorded in a cumulative fashion"
   ]
  },
  {
   "cell_type": "markdown",
   "metadata": {},
   "source": [
    "## Analyzing Microcephaly Cases during the Zika Outbreak of 2015-2016"
   ]
  },
  {
   "cell_type": "code",
   "execution_count": 13,
   "metadata": {
    "collapsed": true
   },
   "outputs": [],
   "source": [
    "brazil = pd.read_csv('brazil_model_data_shift_30.csv', encoding='latin-1', index_col=[0] )"
   ]
  },
  {
   "cell_type": "code",
   "execution_count": 14,
   "metadata": {
    "collapsed": true
   },
   "outputs": [],
   "source": [
    "brazil = brazil.set_index(pd.DatetimeIndex(brazil['report_date']))\n",
    "del brazil['report_date']"
   ]
  },
  {
   "cell_type": "code",
   "execution_count": 15,
   "metadata": {
    "collapsed": true
   },
   "outputs": [],
   "source": [
    "brazil = brazil.rename(columns={'city_region': 'state_region'})"
   ]
  },
  {
   "cell_type": "code",
   "execution_count": 16,
   "metadata": {
    "collapsed": true
   },
   "outputs": [],
   "source": [
    "brazil = pd.get_dummies(brazil, columns=['data_field'])"
   ]
  },
  {
   "cell_type": "code",
   "execution_count": 17,
   "metadata": {
    "scrolled": false
   },
   "outputs": [
    {
     "data": {
      "text/html": [
       "<div>\n",
       "<style>\n",
       "    .dataframe thead tr:only-child th {\n",
       "        text-align: right;\n",
       "    }\n",
       "\n",
       "    .dataframe thead th {\n",
       "        text-align: left;\n",
       "    }\n",
       "\n",
       "    .dataframe tbody tr th {\n",
       "        vertical-align: top;\n",
       "    }\n",
       "</style>\n",
       "<table border=\"1\" class=\"dataframe\">\n",
       "  <thead>\n",
       "    <tr style=\"text-align: right;\">\n",
       "      <th></th>\n",
       "      <th>location_type</th>\n",
       "      <th>value</th>\n",
       "      <th>country</th>\n",
       "      <th>state_region</th>\n",
       "      <th>code</th>\n",
       "      <th>accent_city</th>\n",
       "      <th>region</th>\n",
       "      <th>pop</th>\n",
       "      <th>lat_x</th>\n",
       "      <th>lng</th>\n",
       "      <th>...</th>\n",
       "      <th>lat_y</th>\n",
       "      <th>tmpf</th>\n",
       "      <th>dwpf</th>\n",
       "      <th>relh</th>\n",
       "      <th>drct</th>\n",
       "      <th>sknt</th>\n",
       "      <th>p01i</th>\n",
       "      <th>alti</th>\n",
       "      <th>data_field_microcephaly_confirmed</th>\n",
       "      <th>data_field_microcephaly_fatal_confirmed</th>\n",
       "    </tr>\n",
       "    <tr>\n",
       "      <th>report_date</th>\n",
       "      <th></th>\n",
       "      <th></th>\n",
       "      <th></th>\n",
       "      <th></th>\n",
       "      <th></th>\n",
       "      <th></th>\n",
       "      <th></th>\n",
       "      <th></th>\n",
       "      <th></th>\n",
       "      <th></th>\n",
       "      <th></th>\n",
       "      <th></th>\n",
       "      <th></th>\n",
       "      <th></th>\n",
       "      <th></th>\n",
       "      <th></th>\n",
       "      <th></th>\n",
       "      <th></th>\n",
       "      <th></th>\n",
       "      <th></th>\n",
       "      <th></th>\n",
       "    </tr>\n",
       "  </thead>\n",
       "  <tbody>\n",
       "    <tr>\n",
       "      <th>2016-02-13</th>\n",
       "      <td>state</td>\n",
       "      <td>0.0</td>\n",
       "      <td>Brazil</td>\n",
       "      <td>Acre</td>\n",
       "      <td>BR</td>\n",
       "      <td>NaN</td>\n",
       "      <td>NaN</td>\n",
       "      <td>790101</td>\n",
       "      <td>-9.0</td>\n",
       "      <td>-68.669979</td>\n",
       "      <td>...</td>\n",
       "      <td>-8.924227</td>\n",
       "      <td>79.454545</td>\n",
       "      <td>74.259091</td>\n",
       "      <td>85.238636</td>\n",
       "      <td>170.909091</td>\n",
       "      <td>3.045455</td>\n",
       "      <td>0.0</td>\n",
       "      <td>29.859545</td>\n",
       "      <td>1</td>\n",
       "      <td>0</td>\n",
       "    </tr>\n",
       "    <tr>\n",
       "      <th>2016-02-13</th>\n",
       "      <td>state</td>\n",
       "      <td>25.0</td>\n",
       "      <td>Brazil</td>\n",
       "      <td>Alagoas</td>\n",
       "      <td>BR</td>\n",
       "      <td>NaN</td>\n",
       "      <td>NaN</td>\n",
       "      <td>3321730</td>\n",
       "      <td>-9.0</td>\n",
       "      <td>-35.839968</td>\n",
       "      <td>...</td>\n",
       "      <td>-9.488640</td>\n",
       "      <td>83.000000</td>\n",
       "      <td>73.520000</td>\n",
       "      <td>76.589333</td>\n",
       "      <td>80.000000</td>\n",
       "      <td>6.933333</td>\n",
       "      <td>0.0</td>\n",
       "      <td>29.893667</td>\n",
       "      <td>1</td>\n",
       "      <td>0</td>\n",
       "    </tr>\n",
       "    <tr>\n",
       "      <th>2016-02-13</th>\n",
       "      <td>state</td>\n",
       "      <td>107.0</td>\n",
       "      <td>Brazil</td>\n",
       "      <td>Bahia</td>\n",
       "      <td>BR</td>\n",
       "      <td>NaN</td>\n",
       "      <td>NaN</td>\n",
       "      <td>15126371</td>\n",
       "      <td>-16.0</td>\n",
       "      <td>-39.029980</td>\n",
       "      <td>...</td>\n",
       "      <td>-13.530665</td>\n",
       "      <td>82.541732</td>\n",
       "      <td>71.514961</td>\n",
       "      <td>70.642205</td>\n",
       "      <td>96.850394</td>\n",
       "      <td>6.976378</td>\n",
       "      <td>0.0</td>\n",
       "      <td>29.911417</td>\n",
       "      <td>1</td>\n",
       "      <td>0</td>\n",
       "    </tr>\n",
       "    <tr>\n",
       "      <th>2016-02-13</th>\n",
       "      <td>state</td>\n",
       "      <td>24.0</td>\n",
       "      <td>Brazil</td>\n",
       "      <td>Ceara</td>\n",
       "      <td>BR</td>\n",
       "      <td>NaN</td>\n",
       "      <td>NaN</td>\n",
       "      <td>8842791</td>\n",
       "      <td>-3.0</td>\n",
       "      <td>-40.850024</td>\n",
       "      <td>...</td>\n",
       "      <td>-7.219000</td>\n",
       "      <td>84.863158</td>\n",
       "      <td>72.168421</td>\n",
       "      <td>66.501579</td>\n",
       "      <td>69.473684</td>\n",
       "      <td>1.263158</td>\n",
       "      <td>0.0</td>\n",
       "      <td>29.987368</td>\n",
       "      <td>1</td>\n",
       "      <td>0</td>\n",
       "    </tr>\n",
       "    <tr>\n",
       "      <th>2016-02-13</th>\n",
       "      <td>state</td>\n",
       "      <td>0.0</td>\n",
       "      <td>Brazil</td>\n",
       "      <td>Distrito_Federal</td>\n",
       "      <td>BR</td>\n",
       "      <td>NaN</td>\n",
       "      <td>NaN</td>\n",
       "      <td>2852372</td>\n",
       "      <td>-16.0</td>\n",
       "      <td>-47.916052</td>\n",
       "      <td>...</td>\n",
       "      <td>-15.866700</td>\n",
       "      <td>73.472000</td>\n",
       "      <td>64.904000</td>\n",
       "      <td>75.413600</td>\n",
       "      <td>213.600000</td>\n",
       "      <td>4.520000</td>\n",
       "      <td>0.0</td>\n",
       "      <td>30.020400</td>\n",
       "      <td>1</td>\n",
       "      <td>0</td>\n",
       "    </tr>\n",
       "  </tbody>\n",
       "</table>\n",
       "<p>5 rows × 24 columns</p>\n",
       "</div>"
      ],
      "text/plain": [
       "            location_type  value country      state_region code accent_city  \\\n",
       "report_date                                                                   \n",
       "2016-02-13          state    0.0  Brazil              Acre   BR         NaN   \n",
       "2016-02-13          state   25.0  Brazil           Alagoas   BR         NaN   \n",
       "2016-02-13          state  107.0  Brazil             Bahia   BR         NaN   \n",
       "2016-02-13          state   24.0  Brazil             Ceara   BR         NaN   \n",
       "2016-02-13          state    0.0  Brazil  Distrito_Federal   BR         NaN   \n",
       "\n",
       "             region       pop  lat_x        lng  \\\n",
       "report_date                                       \n",
       "2016-02-13      NaN    790101   -9.0 -68.669979   \n",
       "2016-02-13      NaN   3321730   -9.0 -35.839968   \n",
       "2016-02-13      NaN  15126371  -16.0 -39.029980   \n",
       "2016-02-13      NaN   8842791   -3.0 -40.850024   \n",
       "2016-02-13      NaN   2852372  -16.0 -47.916052   \n",
       "\n",
       "                              ...                         lat_y       tmpf  \\\n",
       "report_date                   ...                                            \n",
       "2016-02-13                    ...                     -8.924227  79.454545   \n",
       "2016-02-13                    ...                     -9.488640  83.000000   \n",
       "2016-02-13                    ...                    -13.530665  82.541732   \n",
       "2016-02-13                    ...                     -7.219000  84.863158   \n",
       "2016-02-13                    ...                    -15.866700  73.472000   \n",
       "\n",
       "                  dwpf       relh        drct      sknt  p01i       alti  \\\n",
       "report_date                                                                \n",
       "2016-02-13   74.259091  85.238636  170.909091  3.045455   0.0  29.859545   \n",
       "2016-02-13   73.520000  76.589333   80.000000  6.933333   0.0  29.893667   \n",
       "2016-02-13   71.514961  70.642205   96.850394  6.976378   0.0  29.911417   \n",
       "2016-02-13   72.168421  66.501579   69.473684  1.263158   0.0  29.987368   \n",
       "2016-02-13   64.904000  75.413600  213.600000  4.520000   0.0  30.020400   \n",
       "\n",
       "             data_field_microcephaly_confirmed  \\\n",
       "report_date                                      \n",
       "2016-02-13                                   1   \n",
       "2016-02-13                                   1   \n",
       "2016-02-13                                   1   \n",
       "2016-02-13                                   1   \n",
       "2016-02-13                                   1   \n",
       "\n",
       "             data_field_microcephaly_fatal_confirmed  \n",
       "report_date                                           \n",
       "2016-02-13                                         0  \n",
       "2016-02-13                                         0  \n",
       "2016-02-13                                         0  \n",
       "2016-02-13                                         0  \n",
       "2016-02-13                                         0  \n",
       "\n",
       "[5 rows x 24 columns]"
      ]
     },
     "execution_count": 17,
     "metadata": {},
     "output_type": "execute_result"
    }
   ],
   "source": [
    "brazil.head()"
   ]
  },
  {
   "cell_type": "code",
   "execution_count": 18,
   "metadata": {
    "collapsed": true
   },
   "outputs": [],
   "source": [
    "brazil['incidence'] = brazil['value']/ brazil['pop']"
   ]
  },
  {
   "cell_type": "code",
   "execution_count": 19,
   "metadata": {
    "collapsed": true
   },
   "outputs": [],
   "source": [
    "brazil['GDP_per_capita'] = (brazil['GDP_USD_bill']*1000000000)/brazil['pop']"
   ]
  },
  {
   "cell_type": "code",
   "execution_count": 20,
   "metadata": {
    "collapsed": true
   },
   "outputs": [],
   "source": [
    "brazil['pos'] = list(zip(brazil.lon, brazil.lat_y))"
   ]
  },
  {
   "cell_type": "code",
   "execution_count": 21,
   "metadata": {},
   "outputs": [
    {
     "data": {
      "text/html": [
       "<div>\n",
       "<style>\n",
       "    .dataframe thead tr:only-child th {\n",
       "        text-align: right;\n",
       "    }\n",
       "\n",
       "    .dataframe thead th {\n",
       "        text-align: left;\n",
       "    }\n",
       "\n",
       "    .dataframe tbody tr th {\n",
       "        vertical-align: top;\n",
       "    }\n",
       "</style>\n",
       "<table border=\"1\" class=\"dataframe\">\n",
       "  <thead>\n",
       "    <tr style=\"text-align: right;\">\n",
       "      <th></th>\n",
       "      <th>location_type</th>\n",
       "      <th>value</th>\n",
       "      <th>country</th>\n",
       "      <th>state_region</th>\n",
       "      <th>code</th>\n",
       "      <th>accent_city</th>\n",
       "      <th>region</th>\n",
       "      <th>pop</th>\n",
       "      <th>lat_x</th>\n",
       "      <th>lng</th>\n",
       "      <th>...</th>\n",
       "      <th>relh</th>\n",
       "      <th>drct</th>\n",
       "      <th>sknt</th>\n",
       "      <th>p01i</th>\n",
       "      <th>alti</th>\n",
       "      <th>data_field_microcephaly_confirmed</th>\n",
       "      <th>data_field_microcephaly_fatal_confirmed</th>\n",
       "      <th>incidence</th>\n",
       "      <th>GDP_per_capita</th>\n",
       "      <th>pos</th>\n",
       "    </tr>\n",
       "    <tr>\n",
       "      <th>report_date</th>\n",
       "      <th></th>\n",
       "      <th></th>\n",
       "      <th></th>\n",
       "      <th></th>\n",
       "      <th></th>\n",
       "      <th></th>\n",
       "      <th></th>\n",
       "      <th></th>\n",
       "      <th></th>\n",
       "      <th></th>\n",
       "      <th></th>\n",
       "      <th></th>\n",
       "      <th></th>\n",
       "      <th></th>\n",
       "      <th></th>\n",
       "      <th></th>\n",
       "      <th></th>\n",
       "      <th></th>\n",
       "      <th></th>\n",
       "      <th></th>\n",
       "      <th></th>\n",
       "    </tr>\n",
       "  </thead>\n",
       "  <tbody>\n",
       "    <tr>\n",
       "      <th>2016-02-13</th>\n",
       "      <td>state</td>\n",
       "      <td>0.0</td>\n",
       "      <td>Brazil</td>\n",
       "      <td>Acre</td>\n",
       "      <td>BR</td>\n",
       "      <td>NaN</td>\n",
       "      <td>NaN</td>\n",
       "      <td>790101</td>\n",
       "      <td>-9.0</td>\n",
       "      <td>-68.669979</td>\n",
       "      <td>...</td>\n",
       "      <td>85.238636</td>\n",
       "      <td>170.909091</td>\n",
       "      <td>3.045455</td>\n",
       "      <td>0.0</td>\n",
       "      <td>29.859545</td>\n",
       "      <td>1</td>\n",
       "      <td>0</td>\n",
       "      <td>0.000000</td>\n",
       "      <td>5224.648494</td>\n",
       "      <td>(-70.0121363636, -8.92422727273)</td>\n",
       "    </tr>\n",
       "    <tr>\n",
       "      <th>2016-02-13</th>\n",
       "      <td>state</td>\n",
       "      <td>25.0</td>\n",
       "      <td>Brazil</td>\n",
       "      <td>Alagoas</td>\n",
       "      <td>BR</td>\n",
       "      <td>NaN</td>\n",
       "      <td>NaN</td>\n",
       "      <td>3321730</td>\n",
       "      <td>-9.0</td>\n",
       "      <td>-35.839968</td>\n",
       "      <td>...</td>\n",
       "      <td>76.589333</td>\n",
       "      <td>80.000000</td>\n",
       "      <td>6.933333</td>\n",
       "      <td>0.0</td>\n",
       "      <td>29.893667</td>\n",
       "      <td>1</td>\n",
       "      <td>0</td>\n",
       "      <td>0.000008</td>\n",
       "      <td>4229.723668</td>\n",
       "      <td>(-36.2767, -9.48864)</td>\n",
       "    </tr>\n",
       "    <tr>\n",
       "      <th>2016-02-13</th>\n",
       "      <td>state</td>\n",
       "      <td>107.0</td>\n",
       "      <td>Brazil</td>\n",
       "      <td>Bahia</td>\n",
       "      <td>BR</td>\n",
       "      <td>NaN</td>\n",
       "      <td>NaN</td>\n",
       "      <td>15126371</td>\n",
       "      <td>-16.0</td>\n",
       "      <td>-39.029980</td>\n",
       "      <td>...</td>\n",
       "      <td>70.642205</td>\n",
       "      <td>96.850394</td>\n",
       "      <td>6.976378</td>\n",
       "      <td>0.0</td>\n",
       "      <td>29.911417</td>\n",
       "      <td>1</td>\n",
       "      <td>0</td>\n",
       "      <td>0.000007</td>\n",
       "      <td>4908.712076</td>\n",
       "      <td>(-39.4747181102, -13.5306645669)</td>\n",
       "    </tr>\n",
       "    <tr>\n",
       "      <th>2016-02-13</th>\n",
       "      <td>state</td>\n",
       "      <td>24.0</td>\n",
       "      <td>Brazil</td>\n",
       "      <td>Ceara</td>\n",
       "      <td>BR</td>\n",
       "      <td>NaN</td>\n",
       "      <td>NaN</td>\n",
       "      <td>8842791</td>\n",
       "      <td>-3.0</td>\n",
       "      <td>-40.850024</td>\n",
       "      <td>...</td>\n",
       "      <td>66.501579</td>\n",
       "      <td>69.473684</td>\n",
       "      <td>1.263158</td>\n",
       "      <td>0.0</td>\n",
       "      <td>29.987368</td>\n",
       "      <td>1</td>\n",
       "      <td>0</td>\n",
       "      <td>0.000003</td>\n",
       "      <td>4476.301656</td>\n",
       "      <td>(-39.2701, -7.219)</td>\n",
       "    </tr>\n",
       "    <tr>\n",
       "      <th>2016-02-13</th>\n",
       "      <td>state</td>\n",
       "      <td>0.0</td>\n",
       "      <td>Brazil</td>\n",
       "      <td>Distrito_Federal</td>\n",
       "      <td>BR</td>\n",
       "      <td>NaN</td>\n",
       "      <td>NaN</td>\n",
       "      <td>2852372</td>\n",
       "      <td>-16.0</td>\n",
       "      <td>-47.916052</td>\n",
       "      <td>...</td>\n",
       "      <td>75.413600</td>\n",
       "      <td>213.600000</td>\n",
       "      <td>4.520000</td>\n",
       "      <td>0.0</td>\n",
       "      <td>30.020400</td>\n",
       "      <td>1</td>\n",
       "      <td>0</td>\n",
       "      <td>0.000000</td>\n",
       "      <td>22906.549356</td>\n",
       "      <td>(-47.9333, -15.8667)</td>\n",
       "    </tr>\n",
       "  </tbody>\n",
       "</table>\n",
       "<p>5 rows × 27 columns</p>\n",
       "</div>"
      ],
      "text/plain": [
       "            location_type  value country      state_region code accent_city  \\\n",
       "report_date                                                                   \n",
       "2016-02-13          state    0.0  Brazil              Acre   BR         NaN   \n",
       "2016-02-13          state   25.0  Brazil           Alagoas   BR         NaN   \n",
       "2016-02-13          state  107.0  Brazil             Bahia   BR         NaN   \n",
       "2016-02-13          state   24.0  Brazil             Ceara   BR         NaN   \n",
       "2016-02-13          state    0.0  Brazil  Distrito_Federal   BR         NaN   \n",
       "\n",
       "             region       pop  lat_x        lng  \\\n",
       "report_date                                       \n",
       "2016-02-13      NaN    790101   -9.0 -68.669979   \n",
       "2016-02-13      NaN   3321730   -9.0 -35.839968   \n",
       "2016-02-13      NaN  15126371  -16.0 -39.029980   \n",
       "2016-02-13      NaN   8842791   -3.0 -40.850024   \n",
       "2016-02-13      NaN   2852372  -16.0 -47.916052   \n",
       "\n",
       "                           ...                      relh        drct  \\\n",
       "report_date                ...                                         \n",
       "2016-02-13                 ...                 85.238636  170.909091   \n",
       "2016-02-13                 ...                 76.589333   80.000000   \n",
       "2016-02-13                 ...                 70.642205   96.850394   \n",
       "2016-02-13                 ...                 66.501579   69.473684   \n",
       "2016-02-13                 ...                 75.413600  213.600000   \n",
       "\n",
       "                 sknt  p01i       alti  data_field_microcephaly_confirmed  \\\n",
       "report_date                                                                 \n",
       "2016-02-13   3.045455   0.0  29.859545                                  1   \n",
       "2016-02-13   6.933333   0.0  29.893667                                  1   \n",
       "2016-02-13   6.976378   0.0  29.911417                                  1   \n",
       "2016-02-13   1.263158   0.0  29.987368                                  1   \n",
       "2016-02-13   4.520000   0.0  30.020400                                  1   \n",
       "\n",
       "             data_field_microcephaly_fatal_confirmed  incidence  \\\n",
       "report_date                                                       \n",
       "2016-02-13                                         0   0.000000   \n",
       "2016-02-13                                         0   0.000008   \n",
       "2016-02-13                                         0   0.000007   \n",
       "2016-02-13                                         0   0.000003   \n",
       "2016-02-13                                         0   0.000000   \n",
       "\n",
       "             GDP_per_capita                               pos  \n",
       "report_date                                                    \n",
       "2016-02-13      5224.648494  (-70.0121363636, -8.92422727273)  \n",
       "2016-02-13      4229.723668              (-36.2767, -9.48864)  \n",
       "2016-02-13      4908.712076  (-39.4747181102, -13.5306645669)  \n",
       "2016-02-13      4476.301656                (-39.2701, -7.219)  \n",
       "2016-02-13     22906.549356              (-47.9333, -15.8667)  \n",
       "\n",
       "[5 rows x 27 columns]"
      ]
     },
     "execution_count": 21,
     "metadata": {},
     "output_type": "execute_result"
    }
   ],
   "source": [
    "brazil.head()"
   ]
  },
  {
   "cell_type": "code",
   "execution_count": 22,
   "metadata": {},
   "outputs": [
    {
     "data": {
      "text/html": [
       "<div>\n",
       "<style>\n",
       "    .dataframe thead tr:only-child th {\n",
       "        text-align: right;\n",
       "    }\n",
       "\n",
       "    .dataframe thead th {\n",
       "        text-align: left;\n",
       "    }\n",
       "\n",
       "    .dataframe tbody tr th {\n",
       "        vertical-align: top;\n",
       "    }\n",
       "</style>\n",
       "<table border=\"1\" class=\"dataframe\">\n",
       "  <thead>\n",
       "    <tr style=\"text-align: right;\">\n",
       "      <th></th>\n",
       "      <th>value</th>\n",
       "      <th>region</th>\n",
       "      <th>pop</th>\n",
       "      <th>lat_x</th>\n",
       "      <th>lng</th>\n",
       "      <th>pop_density</th>\n",
       "      <th>GDP_USD_bill</th>\n",
       "      <th>HDI</th>\n",
       "      <th>lon</th>\n",
       "      <th>lat_y</th>\n",
       "      <th>...</th>\n",
       "      <th>dwpf</th>\n",
       "      <th>relh</th>\n",
       "      <th>drct</th>\n",
       "      <th>sknt</th>\n",
       "      <th>p01i</th>\n",
       "      <th>alti</th>\n",
       "      <th>data_field_microcephaly_confirmed</th>\n",
       "      <th>data_field_microcephaly_fatal_confirmed</th>\n",
       "      <th>incidence</th>\n",
       "      <th>GDP_per_capita</th>\n",
       "    </tr>\n",
       "  </thead>\n",
       "  <tbody>\n",
       "    <tr>\n",
       "      <th>count</th>\n",
       "      <td>978.000000</td>\n",
       "      <td>185.000000</td>\n",
       "      <td>9.780000e+02</td>\n",
       "      <td>978.000000</td>\n",
       "      <td>978.000000</td>\n",
       "      <td>978.000000</td>\n",
       "      <td>978.000000</td>\n",
       "      <td>978.000000</td>\n",
       "      <td>978.000000</td>\n",
       "      <td>978.000000</td>\n",
       "      <td>...</td>\n",
       "      <td>978.000000</td>\n",
       "      <td>978.000000</td>\n",
       "      <td>978.000000</td>\n",
       "      <td>978.000000</td>\n",
       "      <td>978.0</td>\n",
       "      <td>978.000000</td>\n",
       "      <td>978.000000</td>\n",
       "      <td>978.000000</td>\n",
       "      <td>9.780000e+02</td>\n",
       "      <td>978.000000</td>\n",
       "    </tr>\n",
       "    <tr>\n",
       "      <th>mean</th>\n",
       "      <td>26.342536</td>\n",
       "      <td>22.686486</td>\n",
       "      <td>7.973359e+06</td>\n",
       "      <td>-12.971697</td>\n",
       "      <td>-47.084060</td>\n",
       "      <td>75.917587</td>\n",
       "      <td>71.655858</td>\n",
       "      <td>0.737282</td>\n",
       "      <td>-45.865320</td>\n",
       "      <td>-10.965880</td>\n",
       "      <td>...</td>\n",
       "      <td>69.028480</td>\n",
       "      <td>75.307605</td>\n",
       "      <td>137.502426</td>\n",
       "      <td>5.930764</td>\n",
       "      <td>0.0</td>\n",
       "      <td>29.977943</td>\n",
       "      <td>0.570552</td>\n",
       "      <td>0.429448</td>\n",
       "      <td>4.933747e-06</td>\n",
       "      <td>7624.004478</td>\n",
       "    </tr>\n",
       "    <tr>\n",
       "      <th>std</th>\n",
       "      <td>60.151602</td>\n",
       "      <td>9.641908</td>\n",
       "      <td>9.142552e+06</td>\n",
       "      <td>8.593913</td>\n",
       "      <td>8.753858</td>\n",
       "      <td>113.655731</td>\n",
       "      <td>118.572193</td>\n",
       "      <td>0.046876</td>\n",
       "      <td>9.604338</td>\n",
       "      <td>7.488528</td>\n",
       "      <td>...</td>\n",
       "      <td>7.359374</td>\n",
       "      <td>9.643296</td>\n",
       "      <td>43.055919</td>\n",
       "      <td>2.174532</td>\n",
       "      <td>0.0</td>\n",
       "      <td>0.110504</td>\n",
       "      <td>0.495251</td>\n",
       "      <td>0.495251</td>\n",
       "      <td>9.272814e-06</td>\n",
       "      <td>4150.896451</td>\n",
       "    </tr>\n",
       "    <tr>\n",
       "      <th>min</th>\n",
       "      <td>0.000000</td>\n",
       "      <td>3.000000</td>\n",
       "      <td>4.969360e+05</td>\n",
       "      <td>-30.880041</td>\n",
       "      <td>-68.669979</td>\n",
       "      <td>2.200000</td>\n",
       "      <td>3.138000</td>\n",
       "      <td>0.667000</td>\n",
       "      <td>-70.117476</td>\n",
       "      <td>-26.880000</td>\n",
       "      <td>...</td>\n",
       "      <td>28.580000</td>\n",
       "      <td>46.557500</td>\n",
       "      <td>14.583333</td>\n",
       "      <td>0.434783</td>\n",
       "      <td>0.0</td>\n",
       "      <td>29.746316</td>\n",
       "      <td>0.000000</td>\n",
       "      <td>0.000000</td>\n",
       "      <td>0.000000e+00</td>\n",
       "      <td>3471.084899</td>\n",
       "    </tr>\n",
       "    <tr>\n",
       "      <th>25%</th>\n",
       "      <td>0.000000</td>\n",
       "      <td>15.000000</td>\n",
       "      <td>2.852372e+06</td>\n",
       "      <td>-19.000000</td>\n",
       "      <td>-54.269980</td>\n",
       "      <td>7.400000</td>\n",
       "      <td>14.050000</td>\n",
       "      <td>0.703000</td>\n",
       "      <td>-50.806082</td>\n",
       "      <td>-16.231918</td>\n",
       "      <td>...</td>\n",
       "      <td>66.101099</td>\n",
       "      <td>70.689600</td>\n",
       "      <td>106.177885</td>\n",
       "      <td>4.333333</td>\n",
       "      <td>0.0</td>\n",
       "      <td>29.893872</td>\n",
       "      <td>0.000000</td>\n",
       "      <td>0.000000</td>\n",
       "      <td>0.000000e+00</td>\n",
       "      <td>4908.712076</td>\n",
       "    </tr>\n",
       "    <tr>\n",
       "      <th>50%</th>\n",
       "      <td>3.000000</td>\n",
       "      <td>27.000000</td>\n",
       "      <td>3.943885e+06</td>\n",
       "      <td>-11.269611</td>\n",
       "      <td>-46.527817</td>\n",
       "      <td>35.400000</td>\n",
       "      <td>36.474000</td>\n",
       "      <td>0.732000</td>\n",
       "      <td>-44.961172</td>\n",
       "      <td>-8.981858</td>\n",
       "      <td>...</td>\n",
       "      <td>71.214939</td>\n",
       "      <td>75.555833</td>\n",
       "      <td>136.363636</td>\n",
       "      <td>5.829710</td>\n",
       "      <td>0.0</td>\n",
       "      <td>29.955000</td>\n",
       "      <td>1.000000</td>\n",
       "      <td>0.000000</td>\n",
       "      <td>6.202787e-07</td>\n",
       "      <td>5856.848912</td>\n",
       "    </tr>\n",
       "    <tr>\n",
       "      <th>75%</th>\n",
       "      <td>13.000000</td>\n",
       "      <td>29.000000</td>\n",
       "      <td>9.277727e+06</td>\n",
       "      <td>-6.000000</td>\n",
       "      <td>-39.029980</td>\n",
       "      <td>84.300000</td>\n",
       "      <td>74.251000</td>\n",
       "      <td>0.771000</td>\n",
       "      <td>-37.070300</td>\n",
       "      <td>-5.713425</td>\n",
       "      <td>...</td>\n",
       "      <td>74.071556</td>\n",
       "      <td>81.019008</td>\n",
       "      <td>165.263158</td>\n",
       "      <td>7.373355</td>\n",
       "      <td>0.0</td>\n",
       "      <td>30.040714</td>\n",
       "      <td>1.000000</td>\n",
       "      <td>1.000000</td>\n",
       "      <td>3.793451e-06</td>\n",
       "      <td>10095.346142</td>\n",
       "    </tr>\n",
       "    <tr>\n",
       "      <th>max</th>\n",
       "      <td>367.000000</td>\n",
       "      <td>31.000000</td>\n",
       "      <td>4.403530e+07</td>\n",
       "      <td>2.000000</td>\n",
       "      <td>-35.020044</td>\n",
       "      <td>493.500000</td>\n",
       "      <td>587.855000</td>\n",
       "      <td>0.839000</td>\n",
       "      <td>-34.850000</td>\n",
       "      <td>3.833300</td>\n",
       "      <td>...</td>\n",
       "      <td>84.200000</td>\n",
       "      <td>100.000000</td>\n",
       "      <td>304.615385</td>\n",
       "      <td>12.833333</td>\n",
       "      <td>0.0</td>\n",
       "      <td>30.312273</td>\n",
       "      <td>1.000000</td>\n",
       "      <td>1.000000</td>\n",
       "      <td>5.136121e-05</td>\n",
       "      <td>22906.549356</td>\n",
       "    </tr>\n",
       "  </tbody>\n",
       "</table>\n",
       "<p>8 rows × 21 columns</p>\n",
       "</div>"
      ],
      "text/plain": [
       "            value      region           pop       lat_x         lng  \\\n",
       "count  978.000000  185.000000  9.780000e+02  978.000000  978.000000   \n",
       "mean    26.342536   22.686486  7.973359e+06  -12.971697  -47.084060   \n",
       "std     60.151602    9.641908  9.142552e+06    8.593913    8.753858   \n",
       "min      0.000000    3.000000  4.969360e+05  -30.880041  -68.669979   \n",
       "25%      0.000000   15.000000  2.852372e+06  -19.000000  -54.269980   \n",
       "50%      3.000000   27.000000  3.943885e+06  -11.269611  -46.527817   \n",
       "75%     13.000000   29.000000  9.277727e+06   -6.000000  -39.029980   \n",
       "max    367.000000   31.000000  4.403530e+07    2.000000  -35.020044   \n",
       "\n",
       "       pop_density  GDP_USD_bill         HDI         lon       lat_y  \\\n",
       "count   978.000000    978.000000  978.000000  978.000000  978.000000   \n",
       "mean     75.917587     71.655858    0.737282  -45.865320  -10.965880   \n",
       "std     113.655731    118.572193    0.046876    9.604338    7.488528   \n",
       "min       2.200000      3.138000    0.667000  -70.117476  -26.880000   \n",
       "25%       7.400000     14.050000    0.703000  -50.806082  -16.231918   \n",
       "50%      35.400000     36.474000    0.732000  -44.961172   -8.981858   \n",
       "75%      84.300000     74.251000    0.771000  -37.070300   -5.713425   \n",
       "max     493.500000    587.855000    0.839000  -34.850000    3.833300   \n",
       "\n",
       "            ...              dwpf        relh        drct        sknt   p01i  \\\n",
       "count       ...        978.000000  978.000000  978.000000  978.000000  978.0   \n",
       "mean        ...         69.028480   75.307605  137.502426    5.930764    0.0   \n",
       "std         ...          7.359374    9.643296   43.055919    2.174532    0.0   \n",
       "min         ...         28.580000   46.557500   14.583333    0.434783    0.0   \n",
       "25%         ...         66.101099   70.689600  106.177885    4.333333    0.0   \n",
       "50%         ...         71.214939   75.555833  136.363636    5.829710    0.0   \n",
       "75%         ...         74.071556   81.019008  165.263158    7.373355    0.0   \n",
       "max         ...         84.200000  100.000000  304.615385   12.833333    0.0   \n",
       "\n",
       "             alti  data_field_microcephaly_confirmed  \\\n",
       "count  978.000000                         978.000000   \n",
       "mean    29.977943                           0.570552   \n",
       "std      0.110504                           0.495251   \n",
       "min     29.746316                           0.000000   \n",
       "25%     29.893872                           0.000000   \n",
       "50%     29.955000                           1.000000   \n",
       "75%     30.040714                           1.000000   \n",
       "max     30.312273                           1.000000   \n",
       "\n",
       "       data_field_microcephaly_fatal_confirmed     incidence  GDP_per_capita  \n",
       "count                               978.000000  9.780000e+02      978.000000  \n",
       "mean                                  0.429448  4.933747e-06     7624.004478  \n",
       "std                                   0.495251  9.272814e-06     4150.896451  \n",
       "min                                   0.000000  0.000000e+00     3471.084899  \n",
       "25%                                   0.000000  0.000000e+00     4908.712076  \n",
       "50%                                   0.000000  6.202787e-07     5856.848912  \n",
       "75%                                   1.000000  3.793451e-06    10095.346142  \n",
       "max                                   1.000000  5.136121e-05    22906.549356  \n",
       "\n",
       "[8 rows x 21 columns]"
      ]
     },
     "execution_count": 22,
     "metadata": {},
     "output_type": "execute_result"
    }
   ],
   "source": [
    "brazil.describe()\n",
    "## Weather Variables needed for the mosquito outbreak- Taken from Mario's code:\n",
    "# https://github.com/majacaci00/zika_in_brazil/blob/master/Brazil_weather_master.ipynb\n",
    "# station,valid, lon, lat, \n",
    "# tmpf: Air Temperature in Fahrenheit, typically @ 2 meters\n",
    "# dwpf: Dew Point Temperature in Fahrenheit, typically @ 2 meters\n",
    "# dew point is a true measurement of the atmospheric moisture\n",
    "# relh: Relative Humidity in %\n",
    "# drct: Wind Direction in degrees from north\n",
    "# sknt: sknt: Wind Speed in knots\n",
    "# p01i: One hour precipitation for the period from the observation time to the time of the previous hourly precipitation reset. \n",
    "# The precipitation data is not what I expected (all zeros)\n",
    "# alti: Pressure altimeter in inches"
   ]
  },
  {
   "cell_type": "code",
   "execution_count": 23,
   "metadata": {},
   "outputs": [
    {
     "data": {
      "text/plain": [
       "Index(['location_type', 'value', 'country', 'state_region', 'code',\n",
       "       'accent_city', 'region', 'pop', 'lat_x', 'lng', 'pop_density',\n",
       "       'GDP_USD_bill', 'HDI', 'lon', 'lat_y', 'tmpf', 'dwpf', 'relh', 'drct',\n",
       "       'sknt', 'p01i', 'alti', 'data_field_microcephaly_confirmed',\n",
       "       'data_field_microcephaly_fatal_confirmed', 'incidence',\n",
       "       'GDP_per_capita', 'pos'],\n",
       "      dtype='object')"
      ]
     },
     "execution_count": 23,
     "metadata": {},
     "output_type": "execute_result"
    }
   ],
   "source": [
    "brazil.columns"
   ]
  },
  {
   "cell_type": "code",
   "execution_count": 24,
   "metadata": {},
   "outputs": [
    {
     "data": {
      "text/plain": [
       "location_type                               object\n",
       "value                                      float64\n",
       "country                                     object\n",
       "state_region                                object\n",
       "code                                        object\n",
       "accent_city                                 object\n",
       "region                                     float64\n",
       "pop                                          int64\n",
       "lat_x                                      float64\n",
       "lng                                        float64\n",
       "pop_density                                float64\n",
       "GDP_USD_bill                               float64\n",
       "HDI                                        float64\n",
       "lon                                        float64\n",
       "lat_y                                      float64\n",
       "tmpf                                       float64\n",
       "dwpf                                       float64\n",
       "relh                                       float64\n",
       "drct                                       float64\n",
       "sknt                                       float64\n",
       "p01i                                       float64\n",
       "alti                                       float64\n",
       "data_field_microcephaly_confirmed            uint8\n",
       "data_field_microcephaly_fatal_confirmed      uint8\n",
       "incidence                                  float64\n",
       "GDP_per_capita                             float64\n",
       "pos                                         object\n",
       "dtype: object"
      ]
     },
     "execution_count": 24,
     "metadata": {},
     "output_type": "execute_result"
    }
   ],
   "source": [
    "brazil.dtypes"
   ]
  },
  {
   "cell_type": "code",
   "execution_count": 25,
   "metadata": {},
   "outputs": [
    {
     "data": {
      "text/plain": [
       "25763.0"
      ]
     },
     "execution_count": 25,
     "metadata": {},
     "output_type": "execute_result"
    }
   ],
   "source": [
    "brazil.value.sum()"
   ]
  },
  {
   "cell_type": "markdown",
   "metadata": {},
   "source": [
    "## Confirmed Microcephaly Case Data Visualizations"
   ]
  },
  {
   "cell_type": "code",
   "execution_count": 47,
   "metadata": {},
   "outputs": [
    {
     "data": {
      "image/png": "[encoded data removed]",
      "text/plain": [
       "<matplotlib.figure.Figure at 0x22401e53b70>"
      ]
     },
     "metadata": {},
     "output_type": "display_data"
    }
   ],
   "source": [
    "sns.set(rc={'figure.figsize':(13,15)})\n",
    "sns.boxplot( x=brazil[\"value\"], y=brazil[\"state_region\"], linewidth=3).set_title('Microcephaly Cases by State');\n",
    "# Several states are hit extremely hard, while others are not "
   ]
  },
  {
   "cell_type": "code",
   "execution_count": 330,
   "metadata": {
    "collapsed": true
   },
   "outputs": [],
   "source": [
    "# part of the code and idea for this visualization came from Mario's github: \n",
    "# https://github.com/majacaci00/zika_in_brazil\n",
    "\n",
    "def plot_num_ts(num, seq):\n",
    "    \n",
    "    num = num.sort_index(ascending = False)\n",
    "    num = num.resample(seq).sum()\n",
    "    mask = np.isfinite(num['value'])\n",
    "    fig = plt.figure(figsize=(12,5))\n",
    "    ax = fig.gca()\n",
    "    ax.plot(num['value'][mask], c='y', lw=2, linestyle='solid', marker='o',\n",
    "                markerfacecolor='darkblue', markersize=10,\n",
    "            label=\"Brazil - number of microcephaly confirmed cases (2016) per %s\"%seq)\n",
    "    ax.set_facecolor('green')\n",
    "    legend = plt.legend(loc='best', fontsize='large')\n",
    "    plt.setp(legend.get_texts(), color='y')   \n",
    "    plt.xlabel('\\nTime progression in %s'%seq)\n",
    "    plt.ylabel(\"Microcephaly confirmed cases\\n\")\n",
    "    plt.show()"
   ]
  },
  {
   "cell_type": "code",
   "execution_count": 331,
   "metadata": {},
   "outputs": [
    {
     "data": {
      "image/png": "[encoded data removed]",
      "text/plain": [
       "<matplotlib.figure.Figure at 0x27379ae59b0>"
      ]
     },
     "metadata": {},
     "output_type": "display_data"
    }
   ],
   "source": [
    "plot_num_ts(brazil, 'W')"
   ]
  },
  {
   "cell_type": "markdown",
   "metadata": {},
   "source": [
    "## Confirmed Microcephaly Cases by State"
   ]
  },
  {
   "cell_type": "code",
   "execution_count": 56,
   "metadata": {},
   "outputs": [
    {
     "data": {
      "image/png": "[encoded data removed]",
      "text/plain": [
       "<matplotlib.figure.Figure at 0x22402015f98>"
      ]
     },
     "metadata": {},
     "output_type": "display_data"
    }
   ],
   "source": [
    "\n",
    "confirmed_group= brazil[brazil['data_field_microcephaly_confirmed'] == 1].groupby(['state_region'])['value'].sum()\n",
    "\n",
    "# category_group_1\n",
    "# print \"+++++++++\"\n",
    "fig = plt.figure(figsize=(10,7))\n",
    "braz_microc_conf_1 = confirmed_group.plot(kind='barh', color='darkblue', alpha=0.7, \n",
    "                                           title= \"Microcephaly Confirmed Cases by State\")\n",
    "braz_microc_conf_1.set_xlabel(\"States\\n\")\n",
    "braz_microc_conf_1.set_ylabel(\"Sum of Cases\\n\");\n"
   ]
  },
  {
   "cell_type": "markdown",
   "metadata": {},
   "source": [
    "## Fatal Confirmed Cases"
   ]
  },
  {
   "cell_type": "code",
   "execution_count": 69,
   "metadata": {},
   "outputs": [
    {
     "data": {
      "text/plain": [
       "Text(28.8,0.5,'Sum of Cases\\n')"
      ]
     },
     "execution_count": 69,
     "metadata": {},
     "output_type": "execute_result"
    },
    {
     "data": {
      "image/png": "[encoded data removed]",
      "text/plain": [
       "<matplotlib.figure.Figure at 0x22404804a90>"
      ]
     },
     "metadata": {},
     "output_type": "display_data"
    }
   ],
   "source": [
    "fatal_group= brazil[brazil['data_field_microcephaly_fatal_confirmed'] == 1].groupby(['state_region'])['value'].sum()\n",
    "\n",
    "# print category_group_2\n",
    "# print \"++++++++\"\n",
    "\n",
    "fig = plt.figure(figsize=(10,7))\n",
    "fatal_group.plot(kind='barh', color='red', alpha=1,\n",
    "                                      title= \"Microcephaly Confirmed Fatal Cases by State\")\n",
    "confirmed_group.plot(kind='barh', color='blue', alpha=.4, \n",
    "                                           title= \"Confirmed and Fatal Microcephaly Cases by State\")\n",
    "braz_microc_conf_2.set_xlabel(\"States\\n\")\n",
    "braz_microc_conf_2.set_ylabel(\"Sum of Cases\\n\")\n"
   ]
  },
  {
   "cell_type": "markdown",
   "metadata": {},
   "source": [
    "Why are there so many fatalities in the state of Para? This is any interesting question for further research."
   ]
  },
  {
   "cell_type": "markdown",
   "metadata": {},
   "source": [
    "## Geospatial Analysis with Basemap"
   ]
  },
  {
   "cell_type": "code",
   "execution_count": 132,
   "metadata": {
    "collapsed": true
   },
   "outputs": [],
   "source": [
    "region_set = set(brazil['state_region']) # Creates a list of all the unique regions\n",
    "colour_set = ['#f9ebea','#d5d8dc','#c39bd3','#BA4A00','#17A589','#1E8449','#e2df5d','#2E4053','#F1c40F','#A9DFBF',\n",
    "              '#F0B27A', 'red', 'blue', 'green', 'purple', 'orange', 'black', 'white', 'darkblue', 'lightgreen',\n",
    "             'yellow', 'pink', 'darkgreen', 'lightblue', 'gray', 'darkred', '#8c9f8d'] # A list of random colour codes\n",
    "region_colour_dict = dict(zip(region_set, colour_set)) # Creates a dictionary so each region has a colour code"
   ]
  },
  {
   "cell_type": "code",
   "execution_count": 135,
   "metadata": {
    "collapsed": true
   },
   "outputs": [],
   "source": [
    "def make_map():\n",
    "    fig, ax = plt.subplots(figsize=(10,20))\n",
    "    m = Basemap(resolution='c', # c, l, i, h, f or None\n",
    "            projection='merc',\n",
    "            lat_0=61, lon_0=25,\n",
    "            llcrnrlon=-84.5, llcrnrlat= -56.1, urcrnrlon=-28.7, urcrnrlat=16.8)\n",
    "    m.drawmapboundary(fill_color='blue')\n",
    "    m.fillcontinents(color='white',lake_color='#46bcec')\n",
    "    m.drawcoastlines()\n",
    "    m.ax = ax\n",
    "    m.fillcontinents()\n",
    "    for i, r in brazil.iterrows():\n",
    "        x,y = r['pos']\n",
    "        size = (r['value']/3)\n",
    "        m.plot(x, y, marker = 'o', c=region_colour_dict[r['state_region']], markersize=1*size, alpha=0.2, latlon=True)\n",
    "    plt.title(\"Microcephaly in Brazil- Color Coded by State\")\n",
    "    return fig, m"
   ]
  },
  {
   "cell_type": "code",
   "execution_count": 136,
   "metadata": {},
   "outputs": [
    {
     "name": "stderr",
     "output_type": "stream",
     "text": [
      "C:\\Users\\MissFlave\\Anaconda\\lib\\site-packages\\mpl_toolkits\\basemap\\__init__.py:1707: MatplotlibDeprecationWarning: The axesPatch function was deprecated in version 2.1. Use Axes.patch instead.\n",
      "  limb = ax.axesPatch\n",
      "C:\\Users\\MissFlave\\Anaconda\\lib\\site-packages\\mpl_toolkits\\basemap\\__init__.py:1710: MatplotlibDeprecationWarning: The axesPatch function was deprecated in version 2.1. Use Axes.patch instead.\n",
      "  if limb is not ax.axesPatch:\n",
      "C:\\Users\\MissFlave\\Anaconda\\lib\\site-packages\\mpl_toolkits\\basemap\\__init__.py:3274: MatplotlibDeprecationWarning: The ishold function was deprecated in version 2.0.\n",
      "  b = ax.ishold()\n",
      "C:\\Users\\MissFlave\\Anaconda\\lib\\site-packages\\mpl_toolkits\\basemap\\__init__.py:3283: MatplotlibDeprecationWarning: axes.hold is deprecated.\n",
      "    See the API Changes document (http://matplotlib.org/api/api_changes.html)\n",
      "    for more details.\n",
      "  ax.hold(b)\n"
     ]
    },
    {
     "data": {
      "image/png": "[encoded data removed]",
      "text/plain": [
       "<matplotlib.figure.Figure at 0x22410e42a90>"
      ]
     },
     "metadata": {},
     "output_type": "display_data"
    }
   ],
   "source": [
    "fig, m = make_map()\n",
    "m.drawcountries()\n",
    "_ = m.drawstates()"
   ]
  },
  {
   "cell_type": "markdown",
   "metadata": {},
   "source": [
    "<a id='Feature-selection-and-preprocessing'></a>\n",
    "## Selecting Features and Splitting into Training/Testing Data"
   ]
  },
  {
   "cell_type": "code",
   "execution_count": 26,
   "metadata": {
    "collapsed": true
   },
   "outputs": [],
   "source": [
    "X = brazil[['pop_density', 'pop', 'GDP_USD_bill', 'HDI', 'lon', 'lat_y', 'tmpf', 'dwpf',\n",
    "       'relh', 'drct', 'sknt', 'alti', 'GDP_per_capita', 'data_field_microcephaly_fatal_confirmed']]\n",
    "y = brazil['value']"
   ]
  },
  {
   "cell_type": "code",
   "execution_count": 27,
   "metadata": {
    "collapsed": true
   },
   "outputs": [],
   "source": [
    "X_train, X_test, y_train, y_test = train_test_split(X, y)"
   ]
  },
  {
   "cell_type": "code",
   "execution_count": 28,
   "metadata": {
    "collapsed": true
   },
   "outputs": [],
   "source": [
    "ss = StandardScaler()\n",
    "ss.fit(X_train)\n",
    "X_train_scaled = ss.transform(X_train)\n",
    "X_test_scaled = ss.transform(X_test)"
   ]
  },
  {
   "cell_type": "markdown",
   "metadata": {},
   "source": [
    "<a id='Linear_regression'></a>\n",
    "### Baseline Model: A linear regression, with Lasso regularization, tuned with GridSearchCV\n",
    "This is my baseline model, despite my dependent variable being non-linear. "
   ]
  },
  {
   "cell_type": "code",
   "execution_count": 73,
   "metadata": {
    "collapsed": true
   },
   "outputs": [],
   "source": [
    "ss = StandardScaler()\n",
    "lasso = Lasso()"
   ]
  },
  {
   "cell_type": "code",
   "execution_count": 74,
   "metadata": {},
   "outputs": [
    {
     "name": "stdout",
     "output_type": "stream",
     "text": [
      "0.354632141243\n"
     ]
    },
    {
     "data": {
      "text/plain": [
       "{'lasso__alpha': 0.050000000000000003}"
      ]
     },
     "execution_count": 74,
     "metadata": {},
     "output_type": "execute_result"
    }
   ],
   "source": [
    "pipe = Pipeline([\n",
    "    ('ss', ss),\n",
    "    ('lasso', lasso)\n",
    "])\n",
    "\n",
    "params = {\n",
    "    'lasso__alpha': np.arange(.05, .5, 1)\n",
    "}\n",
    "gs = GridSearchCV(pipe, param_grid=params)\n",
    "gs.fit(X_train, y_train)\n",
    "print(gs.best_score_)\n",
    "gs.best_params_"
   ]
  },
  {
   "cell_type": "code",
   "execution_count": 75,
   "metadata": {},
   "outputs": [
    {
     "data": {
      "text/plain": [
       "0.3700579969555412"
      ]
     },
     "execution_count": 75,
     "metadata": {},
     "output_type": "execute_result"
    }
   ],
   "source": [
    "gs.score(X_test, y_test)"
   ]
  },
  {
   "cell_type": "markdown",
   "metadata": {},
   "source": [
    "<a id='LASSO_regression'></a>\n",
    "## LASSO Regression with Polynomial Transformation\n",
    "### This is my runner-up for best model in terms of lowest RMSE and highest R squared\n",
    "Intuitively, this model performs better than the baseline because my dependent variable (y = number of zika cases) is non-linear. "
   ]
  },
  {
   "cell_type": "code",
   "execution_count": 63,
   "metadata": {
    "collapsed": true
   },
   "outputs": [],
   "source": [
    "from sklearn.pipeline import make_pipeline"
   ]
  },
  {
   "cell_type": "code",
   "execution_count": 64,
   "metadata": {},
   "outputs": [
    {
     "name": "stderr",
     "output_type": "stream",
     "text": [
      "C:\\Users\\MissFlave\\Anaconda\\lib\\site-packages\\sklearn\\linear_model\\coordinate_descent.py:491: ConvergenceWarning: Objective did not converge. You might want to increase the number of iterations. Fitting data with very small alpha may cause precision problems.\n",
      "  ConvergenceWarning)\n",
      "C:\\Users\\MissFlave\\Anaconda\\lib\\site-packages\\sklearn\\linear_model\\coordinate_descent.py:491: ConvergenceWarning: Objective did not converge. You might want to increase the number of iterations. Fitting data with very small alpha may cause precision problems.\n",
      "  ConvergenceWarning)\n"
     ]
    }
   ],
   "source": [
    "# Alpha (regularization strength) of LASSO regression\n",
    "lasso_eps = 0.0001\n",
    "lasso_nalpha=20\n",
    "lasso_iter=100\n",
    "# Min and max degree of polynomials features to consider\n",
    "degree_min = 2\n",
    "degree_max = 4\n",
    "#\n",
    "# Make a pipeline model with polynomial transformation and LASSO regression with cross-validation, \n",
    "#run it for increasing degree of polynomial (complexity of the model)\n",
    "for degree in range(degree_min,degree_max+1):\n",
    "    model = make_pipeline(PolynomialFeatures(degree, interaction_only=False), LassoCV(tol=0.1,eps=lasso_eps,n_alphas=lasso_nalpha,max_iter=lasso_iter,\n",
    "normalize=True,cv=3))\n",
    "    model.fit(X_train,y_train)"
   ]
  },
  {
   "cell_type": "code",
   "execution_count": 65,
   "metadata": {
    "collapsed": true
   },
   "outputs": [],
   "source": [
    "test_pred = np.array(model.predict(X_test))\n",
    "RMSE=np.sqrt(np.sum(np.square(test_pred-y_test)))\n",
    "test_score = model.score(X_test,y_test)"
   ]
  },
  {
   "cell_type": "code",
   "execution_count": 66,
   "metadata": {},
   "outputs": [
    {
     "data": {
      "text/plain": [
       "28.418297586643153"
      ]
     },
     "execution_count": 66,
     "metadata": {},
     "output_type": "execute_result"
    }
   ],
   "source": [
    "test_pred.mean()\n",
    "# The mean number of cases in the data set is 26.3 (this is good!)"
   ]
  },
  {
   "cell_type": "code",
   "execution_count": 67,
   "metadata": {},
   "outputs": [
    {
     "name": "stdout",
     "output_type": "stream",
     "text": [
      "436.583767117\n"
     ]
    }
   ],
   "source": [
    "print(RMSE)\n",
    "\n",
    "#This is the 2nd best RMSE of all of my models- It's slightly higher than the RF Regressor "
   ]
  },
  {
   "cell_type": "code",
   "execution_count": 68,
   "metadata": {},
   "outputs": [
    {
     "name": "stdout",
     "output_type": "stream",
     "text": [
      "0.712072977151\n"
     ]
    }
   ],
   "source": [
    "print(test_score)\n",
    "# This is the 2nd highest R squared- Random Forest Regressor had the best score (>0.80)"
   ]
  },
  {
   "cell_type": "markdown",
   "metadata": {},
   "source": [
    "<a id='Enet'></a>\n",
    "## Enet (Elastic-Net) Regression\n",
    "Enet performed about the same as LASSO without the transformed features. This is to be expected because my data set does not have a large number of weak predictors-- it has a small number of strong ones."
   ]
  },
  {
   "cell_type": "code",
   "execution_count": 78,
   "metadata": {
    "collapsed": true
   },
   "outputs": [],
   "source": [
    "ss.fit(X)\n",
    "X_scaled = ss.transform(X)"
   ]
  },
  {
   "cell_type": "code",
   "execution_count": 79,
   "metadata": {},
   "outputs": [
    {
     "name": "stderr",
     "output_type": "stream",
     "text": [
      "C:\\Users\\MissFlave\\Anaconda\\lib\\site-packages\\sklearn\\linear_model\\coordinate_descent.py:491: ConvergenceWarning: Objective did not converge. You might want to increase the number of iterations. Fitting data with very small alpha may cause precision problems.\n",
      "  ConvergenceWarning)\n"
     ]
    }
   ],
   "source": [
    "enet_alphas = np.arange(.00001,.01, .1)\n",
    "coefs = []\n",
    "for alpha in enet_alphas:\n",
    "    model = ElasticNet(alpha=alpha, l1_ratio=.1)\n",
    "    model.fit(X_scaled, y)\n",
    "    coefs.append(model.coef_)"
   ]
  },
  {
   "cell_type": "code",
   "execution_count": 80,
   "metadata": {},
   "outputs": [
    {
     "name": "stdout",
     "output_type": "stream",
     "text": [
      "best alpha 1e-05\n",
      "best l1 ratio 1e-05\n"
     ]
    },
    {
     "name": "stderr",
     "output_type": "stream",
     "text": [
      "C:\\Users\\MissFlave\\Anaconda\\lib\\site-packages\\sklearn\\linear_model\\coordinate_descent.py:491: ConvergenceWarning: Objective did not converge. You might want to increase the number of iterations. Fitting data with very small alpha may cause precision problems.\n",
      "  ConvergenceWarning)\n",
      "C:\\Users\\MissFlave\\Anaconda\\lib\\site-packages\\sklearn\\linear_model\\coordinate_descent.py:491: ConvergenceWarning: Objective did not converge. You might want to increase the number of iterations. Fitting data with very small alpha may cause precision problems.\n",
      "  ConvergenceWarning)\n"
     ]
    },
    {
     "data": {
      "text/plain": [
       "0.38272380654398441"
      ]
     },
     "execution_count": 80,
     "metadata": {},
     "output_type": "execute_result"
    }
   ],
   "source": [
    "best_enet = ElasticNetCV(l1_ratio=[.00001, .01, .1, .2, .3, .4, .5], alphas=enet_alphas)\n",
    "best_enet.fit(X_scaled, y)\n",
    "print(\"best alpha\", best_enet.alpha_)\n",
    "print(\"best l1 ratio\", best_enet.l1_ratio_)\n",
    "best_enet.score(X_scaled, y)"
   ]
  },
  {
   "cell_type": "code",
   "execution_count": 81,
   "metadata": {},
   "outputs": [
    {
     "name": "stderr",
     "output_type": "stream",
     "text": [
      "C:\\Users\\MissFlave\\Anaconda\\lib\\site-packages\\sklearn\\linear_model\\coordinate_descent.py:491: ConvergenceWarning: Objective did not converge. You might want to increase the number of iterations. Fitting data with very small alpha may cause precision problems.\n",
      "  ConvergenceWarning)\n"
     ]
    }
   ],
   "source": [
    "ENreg = ElasticNet(alpha=0.00001, l1_ratio=0.00001, normalize=False)\n",
    "\n",
    "ENreg.fit(X_train_scaled, y_train)\n",
    "\n",
    "pred_EN = ENreg.predict(X_test)"
   ]
  },
  {
   "cell_type": "code",
   "execution_count": 82,
   "metadata": {},
   "outputs": [
    {
     "name": "stdout",
     "output_type": "stream",
     "text": [
      "Enet dropped 0 of 14 features.\n"
     ]
    },
    {
     "data": {
      "image/png": "[encoded data removed]",
      "text/plain": [
       "<matplotlib.figure.Figure at 0x22404e25828>"
      ]
     },
     "metadata": {},
     "output_type": "display_data"
    }
   ],
   "source": [
    "coefs = pd.DataFrame({'coefs':ENreg.coef_,'Positive':ENreg.coef_ > 0}, index=X_train.columns)\n",
    "coefs['coefs_abs'] = np.abs(coefs.coefs)\n",
    "print('Enet dropped {} of {} features.'.format(\n",
    "    sum(coefs.coefs == 0), coefs.shape[0]))\n",
    "\n",
    "top_coefs = coefs.sort_values('coefs_abs', ascending=False).head(50)\n",
    "plt.figure(figsize=(10,12))\n",
    "sns.barplot( top_coefs.coefs_abs, top_coefs.index, orient='h', hue=top_coefs.Positive)\n",
    "plt.title('Enet Regression: Top Features')\n",
    "plt.xlabel('Absolute Coeficient')\n",
    "plt.show()"
   ]
  },
  {
   "cell_type": "markdown",
   "metadata": {},
   "source": [
    "<a id='OLS_Regression'></a>\n",
    "## OLS Regression"
   ]
  },
  {
   "cell_type": "markdown",
   "metadata": {},
   "source": [
    "OLS gave decent results, similar to the baseline, with an adjusted R-squared of ~0.46"
   ]
  },
  {
   "cell_type": "code",
   "execution_count": 83,
   "metadata": {},
   "outputs": [
    {
     "name": "stderr",
     "output_type": "stream",
     "text": [
      "C:\\Users\\MissFlave\\Anaconda\\lib\\site-packages\\statsmodels\\compat\\pandas.py:56: FutureWarning: The pandas.core.datetools module is deprecated and will be removed in a future version. Please use the pandas.tseries module instead.\n",
      "  from pandas.core import datetools\n"
     ]
    }
   ],
   "source": [
    "import statsmodels.api as sm"
   ]
  },
  {
   "cell_type": "code",
   "execution_count": 84,
   "metadata": {},
   "outputs": [
    {
     "data": {
      "text/html": [
       "<table class=\"simpletable\">\n",
       "<caption>OLS Regression Results</caption>\n",
       "<tr>\n",
       "  <th>Dep. Variable:</th>          <td>value</td>      <th>  R-squared:         </th> <td>   0.479</td>\n",
       "</tr>\n",
       "<tr>\n",
       "  <th>Model:</th>                   <td>OLS</td>       <th>  Adj. R-squared:    </th> <td>   0.469</td>\n",
       "</tr>\n",
       "<tr>\n",
       "  <th>Method:</th>             <td>Least Squares</td>  <th>  F-statistic:       </th> <td>   47.15</td>\n",
       "</tr>\n",
       "<tr>\n",
       "  <th>Date:</th>             <td>Mon, 09 Apr 2018</td> <th>  Prob (F-statistic):</th> <td>7.90e-92</td>\n",
       "</tr>\n",
       "<tr>\n",
       "  <th>Time:</th>                 <td>22:46:18</td>     <th>  Log-Likelihood:    </th> <td> -3829.3</td>\n",
       "</tr>\n",
       "<tr>\n",
       "  <th>No. Observations:</th>      <td>   733</td>      <th>  AIC:               </th> <td>   7687.</td>\n",
       "</tr>\n",
       "<tr>\n",
       "  <th>Df Residuals:</th>          <td>   719</td>      <th>  BIC:               </th> <td>   7751.</td>\n",
       "</tr>\n",
       "<tr>\n",
       "  <th>Df Model:</th>              <td>    14</td>      <th>                     </th>     <td> </td>   \n",
       "</tr>\n",
       "<tr>\n",
       "  <th>Covariance Type:</th>      <td>nonrobust</td>    <th>                     </th>     <td> </td>   \n",
       "</tr>\n",
       "</table>\n",
       "<table class=\"simpletable\">\n",
       "<tr>\n",
       "                     <td></td>                        <th>coef</th>     <th>std err</th>      <th>t</th>      <th>P>|t|</th>  <th>[0.025</th>    <th>0.975]</th>  \n",
       "</tr>\n",
       "<tr>\n",
       "  <th>pop_density</th>                             <td>    0.1424</td> <td>    0.037</td> <td>    3.803</td> <td> 0.000</td> <td>    0.069</td> <td>    0.216</td>\n",
       "</tr>\n",
       "<tr>\n",
       "  <th>pop</th>                                     <td> 5.778e-06</td> <td> 8.55e-07</td> <td>    6.754</td> <td> 0.000</td> <td>  4.1e-06</td> <td> 7.46e-06</td>\n",
       "</tr>\n",
       "<tr>\n",
       "  <th>GDP_USD_bill</th>                            <td>   -0.4417</td> <td>    0.067</td> <td>   -6.594</td> <td> 0.000</td> <td>   -0.573</td> <td>   -0.310</td>\n",
       "</tr>\n",
       "<tr>\n",
       "  <th>HDI</th>                                     <td>  -59.3593</td> <td>  109.917</td> <td>   -0.540</td> <td> 0.589</td> <td> -275.156</td> <td>  156.437</td>\n",
       "</tr>\n",
       "<tr>\n",
       "  <th>lon</th>                                     <td>    0.7889</td> <td>    0.270</td> <td>    2.923</td> <td> 0.004</td> <td>    0.259</td> <td>    1.319</td>\n",
       "</tr>\n",
       "<tr>\n",
       "  <th>lat_y</th>                                   <td>    0.4088</td> <td>    0.347</td> <td>    1.180</td> <td> 0.239</td> <td>   -0.272</td> <td>    1.089</td>\n",
       "</tr>\n",
       "<tr>\n",
       "  <th>tmpf</th>                                    <td>   -1.9615</td> <td>    2.739</td> <td>   -0.716</td> <td> 0.474</td> <td>   -7.340</td> <td>    3.417</td>\n",
       "</tr>\n",
       "<tr>\n",
       "  <th>dwpf</th>                                    <td>    1.9759</td> <td>    2.799</td> <td>    0.706</td> <td> 0.480</td> <td>   -3.519</td> <td>    7.471</td>\n",
       "</tr>\n",
       "<tr>\n",
       "  <th>relh</th>                                    <td>   -1.1707</td> <td>    1.231</td> <td>   -0.951</td> <td> 0.342</td> <td>   -3.588</td> <td>    1.247</td>\n",
       "</tr>\n",
       "<tr>\n",
       "  <th>drct</th>                                    <td>    0.1653</td> <td>    0.046</td> <td>    3.620</td> <td> 0.000</td> <td>    0.076</td> <td>    0.255</td>\n",
       "</tr>\n",
       "<tr>\n",
       "  <th>sknt</th>                                    <td>    1.1149</td> <td>    0.940</td> <td>    1.186</td> <td> 0.236</td> <td>   -0.731</td> <td>    2.961</td>\n",
       "</tr>\n",
       "<tr>\n",
       "  <th>alti</th>                                    <td>    7.0082</td> <td>    4.474</td> <td>    1.567</td> <td> 0.118</td> <td>   -1.775</td> <td>   15.791</td>\n",
       "</tr>\n",
       "<tr>\n",
       "  <th>GDP_per_capita</th>                          <td>   -0.0039</td> <td>    0.002</td> <td>   -2.312</td> <td> 0.021</td> <td>   -0.007</td> <td>   -0.001</td>\n",
       "</tr>\n",
       "<tr>\n",
       "  <th>data_field_microcephaly_fatal_confirmed</th> <td>  -43.9129</td> <td>    3.410</td> <td>  -12.876</td> <td> 0.000</td> <td>  -50.608</td> <td>  -37.217</td>\n",
       "</tr>\n",
       "</table>\n",
       "<table class=\"simpletable\">\n",
       "<tr>\n",
       "  <th>Omnibus:</th>       <td>428.630</td> <th>  Durbin-Watson:     </th> <td>   1.959</td>\n",
       "</tr>\n",
       "<tr>\n",
       "  <th>Prob(Omnibus):</th> <td> 0.000</td>  <th>  Jarque-Bera (JB):  </th> <td>4184.349</td>\n",
       "</tr>\n",
       "<tr>\n",
       "  <th>Skew:</th>          <td> 2.495</td>  <th>  Prob(JB):          </th> <td>    0.00</td>\n",
       "</tr>\n",
       "<tr>\n",
       "  <th>Kurtosis:</th>      <td>13.588</td>  <th>  Cond. No.          </th> <td>8.12e+08</td>\n",
       "</tr>\n",
       "</table>"
      ],
      "text/plain": [
       "<class 'statsmodels.iolib.summary.Summary'>\n",
       "\"\"\"\n",
       "                            OLS Regression Results                            \n",
       "==============================================================================\n",
       "Dep. Variable:                  value   R-squared:                       0.479\n",
       "Model:                            OLS   Adj. R-squared:                  0.469\n",
       "Method:                 Least Squares   F-statistic:                     47.15\n",
       "Date:                Mon, 09 Apr 2018   Prob (F-statistic):           7.90e-92\n",
       "Time:                        22:46:18   Log-Likelihood:                -3829.3\n",
       "No. Observations:                 733   AIC:                             7687.\n",
       "Df Residuals:                     719   BIC:                             7751.\n",
       "Df Model:                          14                                         \n",
       "Covariance Type:            nonrobust                                         \n",
       "===========================================================================================================\n",
       "                                              coef    std err          t      P>|t|      [0.025      0.975]\n",
       "-----------------------------------------------------------------------------------------------------------\n",
       "pop_density                                 0.1424      0.037      3.803      0.000       0.069       0.216\n",
       "pop                                      5.778e-06   8.55e-07      6.754      0.000     4.1e-06    7.46e-06\n",
       "GDP_USD_bill                               -0.4417      0.067     -6.594      0.000      -0.573      -0.310\n",
       "HDI                                       -59.3593    109.917     -0.540      0.589    -275.156     156.437\n",
       "lon                                         0.7889      0.270      2.923      0.004       0.259       1.319\n",
       "lat_y                                       0.4088      0.347      1.180      0.239      -0.272       1.089\n",
       "tmpf                                       -1.9615      2.739     -0.716      0.474      -7.340       3.417\n",
       "dwpf                                        1.9759      2.799      0.706      0.480      -3.519       7.471\n",
       "relh                                       -1.1707      1.231     -0.951      0.342      -3.588       1.247\n",
       "drct                                        0.1653      0.046      3.620      0.000       0.076       0.255\n",
       "sknt                                        1.1149      0.940      1.186      0.236      -0.731       2.961\n",
       "alti                                        7.0082      4.474      1.567      0.118      -1.775      15.791\n",
       "GDP_per_capita                             -0.0039      0.002     -2.312      0.021      -0.007      -0.001\n",
       "data_field_microcephaly_fatal_confirmed   -43.9129      3.410    -12.876      0.000     -50.608     -37.217\n",
       "==============================================================================\n",
       "Omnibus:                      428.630   Durbin-Watson:                   1.959\n",
       "Prob(Omnibus):                  0.000   Jarque-Bera (JB):             4184.349\n",
       "Skew:                           2.495   Prob(JB):                         0.00\n",
       "Kurtosis:                      13.588   Cond. No.                     8.12e+08\n",
       "==============================================================================\n",
       "\n",
       "Warnings:\n",
       "[1] Standard Errors assume that the covariance matrix of the errors is correctly specified.\n",
       "[2] The condition number is large, 8.12e+08. This might indicate that there are\n",
       "strong multicollinearity or other numerical problems.\n",
       "\"\"\""
      ]
     },
     "execution_count": 84,
     "metadata": {},
     "output_type": "execute_result"
    }
   ],
   "source": [
    "smfit = sm.OLS(y_train, X_train).fit()\n",
    "smfit.summary()"
   ]
  },
  {
   "cell_type": "markdown",
   "metadata": {},
   "source": [
    "<a id='SVM'></a>\n",
    "## SVM"
   ]
  },
  {
   "cell_type": "markdown",
   "metadata": {},
   "source": [
    "SVR model did not give good results (negative R squared)"
   ]
  },
  {
   "cell_type": "code",
   "execution_count": 85,
   "metadata": {
    "collapsed": true
   },
   "outputs": [],
   "source": [
    "from sklearn import svm\n",
    "from sklearn.svm import SVR"
   ]
  },
  {
   "cell_type": "code",
   "execution_count": 86,
   "metadata": {
    "collapsed": true
   },
   "outputs": [],
   "source": [
    "SVR = svm.SVR()"
   ]
  },
  {
   "cell_type": "code",
   "execution_count": 87,
   "metadata": {},
   "outputs": [
    {
     "name": "stdout",
     "output_type": "stream",
     "text": [
      "-0.118637286628\n"
     ]
    },
    {
     "data": {
      "text/plain": [
       "{'SVR__C': 0.10000000000000001, 'SVR__epsilon': 0.050000000000000003}"
      ]
     },
     "execution_count": 87,
     "metadata": {},
     "output_type": "execute_result"
    }
   ],
   "source": [
    "pipe = Pipeline([\n",
    "    ('ss', ss),\n",
    "    ('SVR', SVR)\n",
    "])\n",
    "\n",
    "params = {\n",
    "    'SVR__epsilon': np.arange(0.05, 0.1, 0.2),\n",
    "    'SVR__C': np.arange(0.1, 0.5,1),\n",
    "}\n",
    "gs = GridSearchCV(pipe, param_grid=params)\n",
    "gs.fit(X_train, y_train)\n",
    "print(gs.best_score_)\n",
    "gs.best_params_"
   ]
  },
  {
   "cell_type": "markdown",
   "metadata": {},
   "source": [
    "<a id='Random_Forest_Regressor'></a>\n",
    "## Random Forest Regressor with CV\n",
    "I created a baseline random forest regression model, and a model with randomly chosen parameters:"
   ]
  },
  {
   "cell_type": "code",
   "execution_count": 54,
   "metadata": {},
   "outputs": [
    {
     "name": "stdout",
     "output_type": "stream",
     "text": [
      "Parameters currently in use:\n",
      "\n",
      "{'bootstrap': True,\n",
      " 'criterion': 'mse',\n",
      " 'max_depth': None,\n",
      " 'max_features': 'auto',\n",
      " 'max_leaf_nodes': None,\n",
      " 'min_impurity_decrease': 0.0,\n",
      " 'min_impurity_split': None,\n",
      " 'min_samples_leaf': 1,\n",
      " 'min_samples_split': 2,\n",
      " 'min_weight_fraction_leaf': 0.0,\n",
      " 'n_estimators': 10,\n",
      " 'n_jobs': 1,\n",
      " 'oob_score': False,\n",
      " 'random_state': 42,\n",
      " 'verbose': 0,\n",
      " 'warm_start': False}\n"
     ]
    }
   ],
   "source": [
    "from sklearn.ensemble import RandomForestRegressor\n",
    "\n",
    "rf = RandomForestRegressor(random_state = 42)\n",
    "\n",
    "from pprint import pprint\n",
    "\n",
    "# Look at parameters used by our current forest\n",
    "print('Parameters currently in use:\\n')\n",
    "pprint(rf.get_params())"
   ]
  },
  {
   "cell_type": "code",
   "execution_count": 55,
   "metadata": {},
   "outputs": [
    {
     "name": "stdout",
     "output_type": "stream",
     "text": [
      "{'bootstrap': [True, False],\n",
      " 'max_depth': [10, 20, 30, 40, 50, 60, 70, 80, 90, 100, 110, None],\n",
      " 'max_features': ['auto', 'sqrt'],\n",
      " 'min_samples_leaf': [1, 2, 4],\n",
      " 'min_samples_split': [2, 5, 10],\n",
      " 'n_estimators': [200, 400, 600, 800, 1000, 1200, 1400, 1600, 1800, 2000]}\n"
     ]
    }
   ],
   "source": [
    "from sklearn.model_selection import RandomizedSearchCV\n",
    "\n",
    "# Number of trees in random forest\n",
    "n_estimators = [int(x) for x in np.linspace(start = 200, stop = 2000, num = 10)]\n",
    "# Number of features to consider at every split\n",
    "max_features = ['auto', 'sqrt']\n",
    "# Maximum number of levels in tree\n",
    "max_depth = [int(x) for x in np.linspace(10, 110, num = 11)]\n",
    "max_depth.append(None)\n",
    "# Minimum number of samples required to split a node\n",
    "min_samples_split = [2, 5, 10]\n",
    "# Minimum number of samples required at each leaf node\n",
    "min_samples_leaf = [1, 2, 4]\n",
    "# Method of selecting samples for training each tree\n",
    "bootstrap = [True, False]\n",
    "\n",
    "# Create the random grid\n",
    "random_grid = {'n_estimators': n_estimators,\n",
    "               'max_features': max_features,\n",
    "               'max_depth': max_depth,\n",
    "               'min_samples_split': min_samples_split,\n",
    "               'min_samples_leaf': min_samples_leaf,\n",
    "               'bootstrap': bootstrap}\n",
    "\n",
    "pprint(random_grid)"
   ]
  },
  {
   "cell_type": "code",
   "execution_count": 56,
   "metadata": {},
   "outputs": [
    {
     "name": "stdout",
     "output_type": "stream",
     "text": [
      "Fitting 3 folds for each of 100 candidates, totalling 300 fits\n"
     ]
    },
    {
     "name": "stderr",
     "output_type": "stream",
     "text": [
      "[Parallel(n_jobs=-1)]: Done  33 tasks      | elapsed:  1.1min\n",
      "[Parallel(n_jobs=-1)]: Done 154 tasks      | elapsed:  3.9min\n",
      "[Parallel(n_jobs=-1)]: Done 300 out of 300 | elapsed:  7.6min finished\n"
     ]
    }
   ],
   "source": [
    "# Use the random grid to search for best hyperparameters\n",
    "# First create the base model to tune\n",
    "rf = RandomForestRegressor(random_state = 42)\n",
    "# Random search of parameters, using 3 fold cross validation, \n",
    "# search across 100 different combinations, and use all available cores\n",
    "rf_random = RandomizedSearchCV(estimator=rf, param_distributions=random_grid,\n",
    "                              n_iter = 100, scoring='neg_mean_absolute_error', \n",
    "                              cv = 3, verbose=2, random_state=42, n_jobs=-1,\n",
    "                              return_train_score=True)\n",
    "\n",
    "# Fit the random search model\n",
    "rf_random.fit(X_train, y_train);"
   ]
  },
  {
   "cell_type": "code",
   "execution_count": 57,
   "metadata": {},
   "outputs": [
    {
     "data": {
      "text/plain": [
       "{'bootstrap': False,\n",
       " 'max_depth': 20,\n",
       " 'max_features': 'auto',\n",
       " 'min_samples_leaf': 1,\n",
       " 'min_samples_split': 2,\n",
       " 'n_estimators': 1800}"
      ]
     },
     "execution_count": 57,
     "metadata": {},
     "output_type": "execute_result"
    }
   ],
   "source": [
    "rf_random.best_params_"
   ]
  },
  {
   "cell_type": "markdown",
   "metadata": {},
   "source": [
    "## Evaluating the RF Models"
   ]
  },
  {
   "cell_type": "code",
   "execution_count": 58,
   "metadata": {
    "collapsed": true
   },
   "outputs": [],
   "source": [
    "def evaluate(model, test_features, test_labels):\n",
    "    predictions = model.predict(test_features)\n",
    "    errors = abs(predictions - test_labels)\n",
    "    mape = 100 * np.mean(errors / test_labels)\n",
    "    accuracy = 100 - mape\n",
    "    print('Model Performance')\n",
    "    print('Average Error: {:0.4f} degrees.'.format(np.mean(errors)))\n",
    "    \n",
    "    return accuracy"
   ]
  },
  {
   "cell_type": "code",
   "execution_count": 59,
   "metadata": {},
   "outputs": [
    {
     "name": "stdout",
     "output_type": "stream",
     "text": [
      "Model Performance\n",
      "Average Error: 5.6899 degrees.\n"
     ]
    }
   ],
   "source": [
    "base_model = RandomForestRegressor(n_estimators = 10, random_state = 42)\n",
    "base_model.fit(X_train, y_train)\n",
    "base_accuracy = evaluate(base_model, X_test, y_test)"
   ]
  },
  {
   "cell_type": "code",
   "execution_count": 60,
   "metadata": {},
   "outputs": [
    {
     "name": "stdout",
     "output_type": "stream",
     "text": [
      "Model Performance\n",
      "Average Error: 5.3884 degrees.\n"
     ]
    }
   ],
   "source": [
    "best_random = rf_random.best_estimator_\n",
    "random_accuracy = evaluate(best_random, X_test, y_test)\n",
    "# The randomly chosen parameters are not much better than the baseline model"
   ]
  },
  {
   "cell_type": "markdown",
   "metadata": {},
   "source": [
    "## Random Forest Regressor tuned with Grid Search\n",
    "This RF model is my best model (lowest RMSE and highest R squared), which makes sense considering my data is non-linear."
   ]
  },
  {
   "cell_type": "code",
   "execution_count": 29,
   "metadata": {
    "collapsed": true
   },
   "outputs": [],
   "source": [
    "from sklearn.model_selection import GridSearchCV\n",
    "\n",
    "# Create the parameter grid based on the results of random search \n",
    "param_grid = {\n",
    "    'bootstrap': [True],\n",
    "    'max_depth': [80, 90, 100, 110],\n",
    "    'max_features': [2, 3],\n",
    "    'min_samples_leaf': [3, 4, 5],\n",
    "    'min_samples_split': [8, 10, 12],\n",
    "    'n_estimators': [100, 200, 300, 1000]\n",
    "}\n",
    "\n",
    "# Create a base model\n",
    "rf = RandomForestRegressor(random_state = 42)\n",
    "\n",
    "# Instantiate the grid search model\n",
    "grid_search = GridSearchCV(estimator = rf, param_grid = param_grid, \n",
    "                          cv = 3, n_jobs = -1, verbose = 2, return_train_score=True)"
   ]
  },
  {
   "cell_type": "code",
   "execution_count": 30,
   "metadata": {},
   "outputs": [
    {
     "name": "stdout",
     "output_type": "stream",
     "text": [
      "Fitting 3 folds for each of 288 candidates, totalling 864 fits\n"
     ]
    },
    {
     "name": "stderr",
     "output_type": "stream",
     "text": [
      "[Parallel(n_jobs=-1)]: Done  33 tasks      | elapsed:   36.2s\n",
      "[Parallel(n_jobs=-1)]: Done 154 tasks      | elapsed:  1.2min\n",
      "[Parallel(n_jobs=-1)]: Done 357 tasks      | elapsed:  2.3min\n",
      "[Parallel(n_jobs=-1)]: Done 640 tasks      | elapsed:  3.9min\n",
      "[Parallel(n_jobs=-1)]: Done 864 out of 864 | elapsed:  5.1min finished\n"
     ]
    }
   ],
   "source": [
    "# Fit the grid search to the data\n",
    "grid_search.fit(X_train, y_train);"
   ]
  },
  {
   "cell_type": "code",
   "execution_count": 31,
   "metadata": {},
   "outputs": [
    {
     "data": {
      "text/plain": [
       "{'bootstrap': True,\n",
       " 'max_depth': 80,\n",
       " 'max_features': 3,\n",
       " 'min_samples_leaf': 3,\n",
       " 'min_samples_split': 8,\n",
       " 'n_estimators': 1000}"
      ]
     },
     "execution_count": 31,
     "metadata": {},
     "output_type": "execute_result"
    }
   ],
   "source": [
    "grid_search.best_params_"
   ]
  },
  {
   "cell_type": "code",
   "execution_count": 61,
   "metadata": {},
   "outputs": [
    {
     "name": "stdout",
     "output_type": "stream",
     "text": [
      "Model Performance\n",
      "Average Error: 11.1984 degrees.\n"
     ]
    }
   ],
   "source": [
    "best_grid = grid_search.best_estimator_\n",
    "grid_accuracy = evaluate(best_grid, X_test, y_test)"
   ]
  },
  {
   "cell_type": "code",
   "execution_count": 43,
   "metadata": {
    "collapsed": true
   },
   "outputs": [],
   "source": [
    "rf = RandomForestRegressor(bootstrap=True, max_depth= 80, max_features=3, min_samples_leaf=3, min_samples_split=8, n_estimators=1000)"
   ]
  },
  {
   "cell_type": "code",
   "execution_count": 85,
   "metadata": {},
   "outputs": [
    {
     "data": {
      "text/plain": [
       "RandomForestRegressor(bootstrap=True, criterion='mse', max_depth=None,\n",
       "           max_features='auto', max_leaf_nodes=None,\n",
       "           min_impurity_decrease=0.0, min_impurity_split=None,\n",
       "           min_samples_leaf=1, min_samples_split=2,\n",
       "           min_weight_fraction_leaf=0.0, n_estimators=10, n_jobs=1,\n",
       "           oob_score=False, random_state=42, verbose=0, warm_start=False)"
      ]
     },
     "execution_count": 85,
     "metadata": {},
     "output_type": "execute_result"
    }
   ],
   "source": [
    "rf.fit(X_train, y_train)"
   ]
  },
  {
   "cell_type": "code",
   "execution_count": 45,
   "metadata": {},
   "outputs": [
    {
     "data": {
      "text/plain": [
       "0.92860325781946318"
      ]
     },
     "execution_count": 45,
     "metadata": {},
     "output_type": "execute_result"
    }
   ],
   "source": [
    "from sklearn.metrics import r2_score\n",
    "train_pred = rf.predict(X_train)\n",
    "r2_score(y_train , train_pred)"
   ]
  },
  {
   "cell_type": "code",
   "execution_count": 46,
   "metadata": {
    "collapsed": true
   },
   "outputs": [],
   "source": [
    "y_pred = rf.predict(X_test)"
   ]
  },
  {
   "cell_type": "code",
   "execution_count": 50,
   "metadata": {},
   "outputs": [
    {
     "data": {
      "text/plain": [
       "26.669408267185556"
      ]
     },
     "execution_count": 50,
     "metadata": {},
     "output_type": "execute_result"
    }
   ],
   "source": [
    "y_pred.mean()\n",
    "# This is very close to the mean y of the whole data set"
   ]
  },
  {
   "cell_type": "code",
   "execution_count": 47,
   "metadata": {},
   "outputs": [
    {
     "data": {
      "text/plain": [
       "478.029473617522"
      ]
     },
     "execution_count": 47,
     "metadata": {},
     "output_type": "execute_result"
    }
   ],
   "source": [
    "from sklearn.metrics import mean_squared_error\n",
    "mse_test = mean_squared_error(y_test, y_pred)\n",
    "mse_test"
   ]
  },
  {
   "cell_type": "code",
   "execution_count": 48,
   "metadata": {},
   "outputs": [
    {
     "data": {
      "text/plain": [
       "342.22393404946547"
      ]
     },
     "execution_count": 48,
     "metadata": {},
     "output_type": "execute_result"
    }
   ],
   "source": [
    "RMSE=np.sqrt(np.sum(np.square(y_pred-y_test)))\n",
    "RMSE"
   ]
  },
  {
   "cell_type": "code",
   "execution_count": 49,
   "metadata": {},
   "outputs": [
    {
     "data": {
      "text/plain": [
       "0.82308363086518732"
      ]
     },
     "execution_count": 49,
     "metadata": {},
     "output_type": "execute_result"
    }
   ],
   "source": [
    "r2_score(y_test , y_pred)"
   ]
  },
  {
   "cell_type": "code",
   "execution_count": 86,
   "metadata": {},
   "outputs": [],
   "source": [
    "feature_importances = pd.DataFrame(rf.feature_importances_,\n",
    "                                   index = X_train.columns,\n",
    "                                    columns=['importance']).sort_values('importance',ascending=False)"
   ]
  },
  {
   "cell_type": "code",
   "execution_count": 87,
   "metadata": {},
   "outputs": [
    {
     "data": {
      "text/html": [
       "<div>\n",
       "<style>\n",
       "    .dataframe thead tr:only-child th {\n",
       "        text-align: right;\n",
       "    }\n",
       "\n",
       "    .dataframe thead th {\n",
       "        text-align: left;\n",
       "    }\n",
       "\n",
       "    .dataframe tbody tr th {\n",
       "        vertical-align: top;\n",
       "    }\n",
       "</style>\n",
       "<table border=\"1\" class=\"dataframe\">\n",
       "  <thead>\n",
       "    <tr style=\"text-align: right;\">\n",
       "      <th></th>\n",
       "      <th>importance</th>\n",
       "    </tr>\n",
       "  </thead>\n",
       "  <tbody>\n",
       "    <tr>\n",
       "      <th>data_field_microcephaly_fatal_confirmed</th>\n",
       "      <td>0.377658</td>\n",
       "    </tr>\n",
       "    <tr>\n",
       "      <th>lon</th>\n",
       "      <td>0.243440</td>\n",
       "    </tr>\n",
       "    <tr>\n",
       "      <th>GDP_per_capita</th>\n",
       "      <td>0.139355</td>\n",
       "    </tr>\n",
       "    <tr>\n",
       "      <th>pop</th>\n",
       "      <td>0.099497</td>\n",
       "    </tr>\n",
       "    <tr>\n",
       "      <th>lat_y</th>\n",
       "      <td>0.038341</td>\n",
       "    </tr>\n",
       "    <tr>\n",
       "      <th>tmpf</th>\n",
       "      <td>0.026021</td>\n",
       "    </tr>\n",
       "    <tr>\n",
       "      <th>HDI</th>\n",
       "      <td>0.018778</td>\n",
       "    </tr>\n",
       "    <tr>\n",
       "      <th>GDP_USD_bill</th>\n",
       "      <td>0.015784</td>\n",
       "    </tr>\n",
       "    <tr>\n",
       "      <th>alti</th>\n",
       "      <td>0.013151</td>\n",
       "    </tr>\n",
       "    <tr>\n",
       "      <th>pop_density</th>\n",
       "      <td>0.008048</td>\n",
       "    </tr>\n",
       "    <tr>\n",
       "      <th>dwpf</th>\n",
       "      <td>0.006932</td>\n",
       "    </tr>\n",
       "    <tr>\n",
       "      <th>drct</th>\n",
       "      <td>0.005888</td>\n",
       "    </tr>\n",
       "    <tr>\n",
       "      <th>sknt</th>\n",
       "      <td>0.004170</td>\n",
       "    </tr>\n",
       "    <tr>\n",
       "      <th>relh</th>\n",
       "      <td>0.002938</td>\n",
       "    </tr>\n",
       "  </tbody>\n",
       "</table>\n",
       "</div>"
      ],
      "text/plain": [
       "                                         importance\n",
       "data_field_microcephaly_fatal_confirmed    0.377658\n",
       "lon                                        0.243440\n",
       "GDP_per_capita                             0.139355\n",
       "pop                                        0.099497\n",
       "lat_y                                      0.038341\n",
       "tmpf                                       0.026021\n",
       "HDI                                        0.018778\n",
       "GDP_USD_bill                               0.015784\n",
       "alti                                       0.013151\n",
       "pop_density                                0.008048\n",
       "dwpf                                       0.006932\n",
       "drct                                       0.005888\n",
       "sknt                                       0.004170\n",
       "relh                                       0.002938"
      ]
     },
     "execution_count": 87,
     "metadata": {},
     "output_type": "execute_result"
    }
   ],
   "source": [
    "feature_importances\n",
    "\n",
    "# The binary column indicating whether the confirmed cases were fatal or not is the most important\n",
    "# feature. It's also interesting that longitude and the GDP per capita are also important. I assumed\n",
    "# the weather data would be more important. This makes the case for better weather data collection, and\n",
    "# implementation as a feature. "
   ]
  },
  {
   "cell_type": "markdown",
   "metadata": {},
   "source": [
    "<a id='Conclusions'></a>\n",
    "# Conclusions and Future Research"
   ]
  },
  {
   "cell_type": "markdown",
   "metadata": {},
   "source": [
    "- Incorporating better weather data, and future population/socio-economic projections for predicting a future outbreak.\n",
    "\n",
    "\n",
    "- Incorporting information about interventions and mosquito control efforts on the state and national levels.\n",
    "\n",
    "\n",
    "- Can I sucessfully build models for other countries? What about other mosquito borne diseases such as dengue, west nile, and chikungunya?\n",
    "\n",
    "\n",
    "- Using a clustering algorithm to differentiate between fatal and non-fatal microcephaly cases. What factors increase the likelihood of microcephaly being fatal?\n",
    "\n",
    "\n",
    "- Train a neural network\n",
    "\n",
    "\n",
    "- Use Bayes Regression for further insights \n",
    "\n",
    "\n",
    "- Ensemble models to improve performance. "
   ]
  },
  {
   "cell_type": "markdown",
   "metadata": {},
   "source": [
    "# Sources Cited"
   ]
  },
  {
   "cell_type": "markdown",
   "metadata": {},
   "source": [
    "Carrillo, Mario. Zika in Brazil, (2016), GitHub repository, https://github.com/majacaci00/zika_in_brazil"
   ]
  },
  {
   "cell_type": "markdown",
   "metadata": {},
   "source": [
    "DistanceLatLong. \"List of States in Brazil with Latitude and Longitude\". http://www.distancelatlong.com/country/brazil"
   ]
  },
  {
   "cell_type": "markdown",
   "metadata": {},
   "source": [
    "eLife. \"The global distribution of the arbovirus vectors Aedes aegypti and Ae. albopictus\"\n",
    "Moritz UG Kraemer  Is a corresponding author , Marianne E Sinka, Kirsten A Duda, Adrian QN Mylne, Freya M Shearer, Christopher M Barker, Chester G Moore, Roberta G Carvalho, Giovanini E Coelho Wim Van Bortel, Guy Hendrickx, Francis Schaffner, Iqbal RF Elyazar, Hwa-Jen Teng, Oliver J Brady, Jane P Messina, David M Pigott, Thomas W Scott, David L Smith, GR William Wint, Nick Golding, Simon I Hay  Is a corresponding author expand author listsee all\n",
    "RESEARCH ARTICLE Jun 30, 2015. eLife 2015;4:e08347\n",
    "https://elifesciences.org/articles/08347"
   ]
  },
  {
   "cell_type": "markdown",
   "metadata": {},
   "source": [
    "Johns Hopkins University Bloomberg School of Public Health. \"Cost of Zika outbreak in the United States could be high: Computer model estimates even a mild epidemic could cost in the hundreds of millions.\" ScienceDaily. ScienceDaily, 3 May 2017.\n",
    "https://www.sciencedaily.com/releases/2017/05/170503110759.htm"
   ]
  },
  {
   "cell_type": "markdown",
   "metadata": {},
   "source": [
    "NASA's Socioeconomic Data and Applications Center (sedac)\n",
    "A Data Center in NASA's Earth Observing System Data and Information System (EOSDIS) — Hosted by CIESIN at Columbia University\n",
    "http://sedac.ciesin.columbia.edu/data/sets/browse/2?facets=theme:climate"
   ]
  },
  {
   "cell_type": "markdown",
   "metadata": {},
   "source": [
    "PNAS. \"Spread of Zika virus in the Americas\". Qian Zhang, Kaiyuan Sun, Matteo Chinazzi, Ana Pastore y Piontti, Natalie E. Dean, Diana Patricia Rojas, Stefano Merler, Dina Mistry, Piero Poletti, Luca Rossi, Margaret Bray, M. Elizabeth Halloran, Ira M. Longini, Alessandro Vespignani\n",
    "Proceedings of the National Academy of Sciences May 2017, 114 (22) E4334-E4343; DOI: 10.1073/pnas.1620161114\n",
    "http://www.pnas.org/content/114/22/E4334"
   ]
  },
  {
   "cell_type": "markdown",
   "metadata": {},
   "source": [
    "Scientific American. \"Scientists Can See Zika Coming by Tracking the Climate.\"\n",
    "Umair Irfan, ClimateWire on July 24, 2017.\n",
    "https://www.scientificamerican.com/article/scientists-can-see-zika-coming-by-tracking-the-climate/"
   ]
  },
  {
   "cell_type": "markdown",
   "metadata": {},
   "source": [
    "UNDP. \"Social and economic costs of Zika can reach up to US$ 18 billion in Latin America and the Caribbean\". Apr 6, 2017. http://www.undp.org/content/undp/en/home/presscenter/pressreleases/2017/04/06/social-and-economic-costs-of-zika-can-reach-up-to-us-18-billion-in-latin-america-and-the-caribbean.html"
   ]
  },
  {
   "cell_type": "markdown",
   "metadata": {},
   "source": [
    "Wikipedia. \"List of Brazilian federative units by gross regional product\". \n",
    "https://en.wikipedia.org/wiki/List_of_Brazilian_federative_units_by_gross_regional_product\n",
    "\n",
    "Wikipedia. \"List of Brazilian federative units by Human Development Index\". https://en.wikipedia.org/wiki/List_of_Brazilian_federative_units_by_Human_Development_Index\n",
    "\n",
    "\n",
    "Wikipedia. \"List of Brazilian states by population density\". https://en.wikipedia.org/wiki/List_of_Brazilian_states_by_population_density\n",
    "\n"
   ]
  }
 ],
 "metadata": {
  "kernelspec": {
   "display_name": "Python 3",
   "language": "python",
   "name": "python3"
  },
  "language_info": {
   "codemirror_mode": {
    "name": "ipython",
    "version": 3
   },
   "file_extension": ".py",
   "mimetype": "text/x-python",
   "name": "python",
   "nbconvert_exporter": "python",
   "pygments_lexer": "ipython3",
   "version": "3.6.3"
  }
 },
 "nbformat": 4,
 "nbformat_minor": 2
}
